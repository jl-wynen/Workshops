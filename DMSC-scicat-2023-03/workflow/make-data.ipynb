{
 "cells": [
  {
   "cell_type": "markdown",
   "id": "1d61fce2-7692-413b-83d0-41d813977445",
   "metadata": {},
   "source": [
    "# Generate input data for exercise\n",
    "\n",
    "The data is a simple wavelength spectrum with some peaks and and affine background stored as a Scipp HDF5 file."
   ]
  },
  {
   "cell_type": "code",
   "execution_count": null,
   "id": "44b6430e-2d4e-4b59-826a-50c301c48211",
   "metadata": {
    "tags": []
   },
   "outputs": [],
   "source": [
    "import scipp as sc\n",
    "import numpy as np\n",
    "import plopp as pp\n",
    "\n",
    "pp.patch_scipp()\n",
    "%matplotlib widget"
   ]
  },
  {
   "cell_type": "markdown",
   "id": "f693c8f1-1b31-4803-a546-2704172fca8d",
   "metadata": {},
   "source": [
    "# Prepare data"
   ]
  },
  {
   "cell_type": "code",
   "execution_count": null,
   "id": "7ece54b2-7bb7-4576-b5c0-fa48cfeed611",
   "metadata": {},
   "outputs": [],
   "source": [
    "rng = np.random.default_rng(74712)"
   ]
  },
  {
   "cell_type": "code",
   "execution_count": null,
   "id": "c4778730-46f2-44b9-9140-00a97683a77d",
   "metadata": {
    "tags": []
   },
   "outputs": [],
   "source": [
    "x = sc.linspace(\"wavelength\", 0.3, 1.2, 500, unit=\"angstrom\")\n",
    "\n",
    "offset = sc.scalar(0.2, unit=\"counts\")\n",
    "slope = sc.scalar(-0.1, unit=\"counts/angstrom\")\n",
    "background = offset + slope * x\n",
    "\n",
    "mu0 = sc.scalar(0.42, unit=\"angstrom\")\n",
    "sig0 = sc.scalar(0.1, unit=\"angstrom\")\n",
    "peak0 = sc.exp(-((x - mu0) ** 2) / sig0**2) / 2 / np.sqrt(2 * np.pi)\n",
    "\n",
    "mu1 = sc.scalar(0.65, unit=\"angstrom\")\n",
    "sig1 = sc.scalar(0.12, unit=\"angstrom\")\n",
    "peak1 = sc.exp(-((x - mu1) ** 2) / sig1**2) / 2 / np.sqrt(2 * np.pi) / 1.5\n",
    "\n",
    "mu2 = sc.scalar(0.89, unit=\"angstrom\")\n",
    "sig2 = sc.scalar(0.06, unit=\"angstrom\")\n",
    "peak2 = sc.exp(-((x - mu2) ** 2) / sig2**2) / 2 / np.sqrt(2 * np.pi)\n",
    "\n",
    "peaks = peak0 + peak1 + peak2\n",
    "peaks.unit = background.unit\n",
    "\n",
    "noise = sc.array(\n",
    "    dims=x.dims, values=rng.normal(0.0, 0.005, background.shape), unit=background.unit\n",
    ")\n",
    "\n",
    "lineshape = (background + peaks + noise) * 10_000\n",
    "da = sc.DataArray(lineshape, coords={\"wavelength\": x})"
   ]
  },
  {
   "cell_type": "markdown",
   "id": "1daf5be5-355e-4a92-a143-781d7bb804dd",
   "metadata": {},
   "source": [
    "# Workflow\n",
    "\n",
    "`da` would be loaded from a file obtained via Scitacean."
   ]
  },
  {
   "cell_type": "code",
   "execution_count": null,
   "id": "8a9c62f2-54f9-4e42-831d-8490f3c91c31",
   "metadata": {
    "tags": []
   },
   "outputs": [],
   "source": [
    "da.plot(ls=\"-\", marker=None)"
   ]
  },
  {
   "cell_type": "markdown",
   "id": "bb4f0996-5f5c-4195-ad22-b65ecc153314",
   "metadata": {},
   "source": [
    "Get from SciCat"
   ]
  },
  {
   "cell_type": "code",
   "execution_count": null,
   "id": "a30a979b-3e49-48af-96d5-40901013bb4f",
   "metadata": {},
   "outputs": [],
   "source": [
    "proton_charge = sc.scalar(900, unit=\"uAh\")"
   ]
  },
  {
   "cell_type": "markdown",
   "id": "e7882d0c-c431-4cb8-ba0d-99b89dd08d11",
   "metadata": {},
   "source": [
    "Find background.\n",
    "There are multiple ways to do this, esp. since the background is not constant."
   ]
  },
  {
   "cell_type": "code",
   "execution_count": null,
   "id": "5a0fd816-ba07-47b9-bb98-74a700d6bad1",
   "metadata": {},
   "outputs": [],
   "source": [
    "bg = sc.min(da)"
   ]
  },
  {
   "cell_type": "code",
   "execution_count": null,
   "id": "1ef03e69-6f19-4ded-a36b-fca4550bfeb9",
   "metadata": {},
   "outputs": [],
   "source": [
    "corrected = (da - background) / proton_charge"
   ]
  },
  {
   "cell_type": "code",
   "execution_count": null,
   "id": "d34c023c-b2fb-4660-9fda-e3b30ee65b59",
   "metadata": {
    "tags": []
   },
   "outputs": [],
   "source": [
    "corrected.plot(ls=\"-\", marker=None)"
   ]
  },
  {
   "cell_type": "markdown",
   "id": "a9562311-d7d4-4cea-9080-e56579c1c3cf",
   "metadata": {},
   "source": [
    "Save `corrected` to file and make SciCat dataset.\n",
    "\n",
    "# Save data"
   ]
  },
  {
   "cell_type": "code",
   "execution_count": null,
   "id": "fcb57e68-3dd5-4641-af8e-4da68ac88891",
   "metadata": {
    "tags": []
   },
   "outputs": [],
   "source": [
    "da.to_hdf5(\"spectrum-raw.h5\")"
   ]
  }
 ],
 "metadata": {
  "kernelspec": {
   "display_name": "Python 3 (ipykernel)",
   "language": "python",
   "name": "python3"
  },
  "language_info": {
   "codemirror_mode": {
    "name": "ipython",
    "version": 3
   },
   "file_extension": ".py",
   "mimetype": "text/x-python",
   "name": "python",
   "nbconvert_exporter": "python",
   "pygments_lexer": "ipython3",
   "version": "3.9.16"
  }
 },
 "nbformat": 4,
 "nbformat_minor": 5
}
