{
 "cells": [
  {
   "cell_type": "markdown",
   "id": "99a0bf46-f0b5-4103-a3e5-2529fd21642a",
   "metadata": {},
   "source": [
    "# SciCat workshop exercise\n",
    "\n",
    "This exercise walks you through downloading a dataset and data files from SciCat and uploading processed data to SciCat.\n",
    "It uses a basic, contrived workflow to process the data using [Scipp](https://scipp.github.io/)."
   ]
  },
  {
   "cell_type": "code",
   "execution_count": null,
   "id": "ac5a77c2-d995-4a8b-b1e0-b32603ce104d",
   "metadata": {
    "tags": []
   },
   "outputs": [],
   "source": [
    "import scipp as sc\n",
    "from scitacean import Client, Dataset\n",
    "from scitacean.transfer.ssh import SSHFileTransfer\n",
    "\n",
    "%matplotlib widget"
   ]
  },
  {
   "cell_type": "markdown",
   "id": "912e8374-368b-4bcc-a4c5-be730020f554",
   "metadata": {},
   "source": [
    "## Setup\n",
    "\n",
    "The first cell contains some workshop-specific configuration.\n",
    "\n",
    "The production instance of SciCat is currently located at `\"https://scicat.ess.eu/api/v3\"`.\n",
    "But we use the staging instance here.\n",
    "So we can mess around without having to worry about breaking anything important.\n",
    "\n",
    "The source folder is where the data files for a SciCat dataset are stored.\n",
    "In production, it will typically be under `/ess/data` with a path which encodes instrument, date, and proposal.\n",
    "But that is for permanent storage.\n",
    "Here, we use a path that we have full control over and can play around with.\n",
    "(The `pid.pid` placeholder will ensure that every dataset gets its own folder."
   ]
  },
  {
   "cell_type": "code",
   "execution_count": null,
   "id": "57dde347-bb2f-477c-97b1-863b27cc1426",
   "metadata": {},
   "outputs": [],
   "source": [
    "scicat_url = \"https://staging.scicat.ess.eu/api/v3\"\n",
    "source_folder = \"/mnt/groupdata/scicat/upload/workshop/20230322/{pid.pid}\""
   ]
  },
  {
   "cell_type": "markdown",
   "id": "2ecfe587-8d84-4bbe-b826-10324139fc60",
   "metadata": {},
   "source": [
    "Get your access token from SciCat\n",
    "\n",
    "1. Log in at `https://staging.scicat.ess.eu`\n",
    "2. Click on your user icon in the top-right corner and go to 'Settings'.\n",
    "3. Copy 'Catamel Token' as a string to the `token` variable below."
   ]
  },
  {
   "cell_type": "code",
   "execution_count": null,
   "id": "41061e36-1aec-4033-a8c0-bbb40ebfb6b6",
   "metadata": {},
   "outputs": [],
   "source": [
    "token = \"<YOUR TOKEN>\""
   ]
  },
  {
   "cell_type": "markdown",
   "id": "0b2b3cd0-8aab-414e-83cc-9b7cf7094172",
   "metadata": {},
   "source": [
    "Set the host name that you use to connect to 'login' with SSH.\n",
    "Your `ssh-agent` must be set up to connect to this host without asking for a password / passphrase on the terminal.\n",
    "See `setup.md` for details."
   ]
  },
  {
   "cell_type": "code",
   "execution_count": null,
   "id": "f9173e15-c973-40af-9fcb-56e0a0de9e54",
   "metadata": {
    "tags": []
   },
   "outputs": [],
   "source": [
    "ssh_host = \"login.esss.dk\""
   ]
  },
  {
   "cell_type": "markdown",
   "id": "c131217f-1931-45d7-8404-e255455427bb",
   "metadata": {},
   "source": [
    "## Fetch the input data\n",
    "\n",
    "Create a client to talk to the SciCat server and file server:"
   ]
  },
  {
   "cell_type": "code",
   "execution_count": null,
   "id": "5e10fa0e-8d17-4f29-b2c2-2504529a6dbf",
   "metadata": {},
   "outputs": [],
   "source": [
    "client = Client.from_token(\n",
    "    url=scicat_url,\n",
    "    token=token,\n",
    "    file_transfer=SSHFileTransfer(\n",
    "        host=ssh_host,\n",
    "        source_folder=source_folder,\n",
    "    ),\n",
    ")"
   ]
  },
  {
   "cell_type": "markdown",
   "id": "8c597994-3d91-4056-a6af-403d9b4abd18",
   "metadata": {},
   "source": [
    "Find the ID of the raw dataset in the web interface of SciCat:"
   ]
  },
  {
   "cell_type": "code",
   "execution_count": null,
   "id": "962560c6-cba4-4d3c-beaa-09c1165964e0",
   "metadata": {},
   "outputs": [],
   "source": [
    "input_pid = \"<TODO>\""
   ]
  },
  {
   "cell_type": "markdown",
   "id": "93d0ff8a-a731-4590-b5c6-4ad71c1bde02",
   "metadata": {},
   "source": [
    "1. Download the dataset with the given PID.\n",
    "2. Inspect the dataset to make sure it is the correct one.\n",
    "3. Download its files to a local folder of your choice.\n",
    "\n",
    "Check out https://scicatproject.github.io/scitacean/ to find out how to do this."
   ]
  },
  {
   "cell_type": "code",
   "execution_count": null,
   "id": "f32955ab-20c1-422a-9916-8b13f584307e",
   "metadata": {
    "tags": []
   },
   "outputs": [],
   "source": [
    "# TODO"
   ]
  },
  {
   "cell_type": "markdown",
   "id": "ee3ca417-70cf-469d-820c-6458d4f95e42",
   "metadata": {},
   "source": [
    "## Process the data\n",
    "\n",
    "The data is a crude mock up of a wavelength spectrum.\n",
    "Your task is to \n",
    "\n",
    "1. Load the data (using `scipp.io.load_hdf5(filename)`).\n",
    "2. Inspect the data, e.g. by plotting it.\n",
    "3. Determine the background and subtract it from the raw data.\n",
    "   Don't go too crazy, just find a decent estimate.\n",
    "4. Find and normalise (divide by) the proton charge.\n",
    "5. Inspect the thus corrected data."
   ]
  },
  {
   "cell_type": "code",
   "execution_count": null,
   "id": "57f78a51-0b4b-4bb8-8a51-03f6c81c323d",
   "metadata": {
    "tags": []
   },
   "outputs": [],
   "source": [
    "# TODO"
   ]
  },
  {
   "cell_type": "markdown",
   "id": "8f470fd9-55a0-45fb-96eb-abb83571c9ef",
   "metadata": {},
   "source": [
    "## Save the derived data\n",
    "\n",
    "1. Use [DataArray.save_hdf5](https://scipp.github.io/generated/classes/scipp.DataArray.html#scipp.DataArray.save_hdf5) to save the corrected data to file.\n",
    "2. Make a derived dataset from the input dataset and the file you just wrote.\n",
    "   (Tip: Use [Dataset.derive](https://scicatproject.github.io/scitacean/generated/classes/scitacean.Dataset.html#scitacean.Dataset.derive).)\n",
    "3. Inspect the derived dataset in Jupyter.\n",
    "    - Do all fields make sense?\n",
    "    - Is the file path correct?\n",
    "    - Is the scientific metadata meaningful and did you include everything that you might want to access in the future?"
   ]
  },
  {
   "cell_type": "code",
   "execution_count": null,
   "id": "52012c16-40c9-41cc-a111-32bdde48ae17",
   "metadata": {
    "tags": []
   },
   "outputs": [],
   "source": [
    "# TODO"
   ]
  },
  {
   "cell_type": "markdown",
   "id": "5eb5b18e-5a0f-4667-8864-5567b2989dcc",
   "metadata": {},
   "source": [
    "## Upload to SciCat\n",
    "\n",
    "1. Upload the derived dataset and data file to SciCat (using the client from before).\n",
    "   - Use [client.upload_new_dataset_now](https://scicatproject.github.io/scitacean/generated/classes/scitacean.Client.html#scitacean.Client.upload_new_dataset_now).\n",
    "   - Capture the returned datasets and inspect it in Jupyter.\n",
    "2. Inspect the dataset in the web interface and the file with SSH.\n",
    "\n",
    "<div class=\"alert alert-warning\">\n",
    "\n",
    "**Warning**\n",
    "\n",
    "Every time you call `client.upload_new_dataset_now`, it will create a new dataset in SciCat and upload a copy of the file.\n",
    "Ideally, do not keep a call to this function around in the notebook so you don't accidentally end up uploading lots of duplicate data.\n",
    "</div>"
   ]
  },
  {
   "cell_type": "code",
   "execution_count": null,
   "id": "bef4da75-0054-4452-8507-9f2c872f13ce",
   "metadata": {
    "tags": []
   },
   "outputs": [],
   "source": [
    "# TODO"
   ]
  }
 ],
 "metadata": {
  "kernelspec": {
   "display_name": "Python 3 (ipykernel)",
   "language": "python",
   "name": "python3"
  },
  "language_info": {
   "codemirror_mode": {
    "name": "ipython",
    "version": 3
   },
   "file_extension": ".py",
   "mimetype": "text/x-python",
   "name": "python",
   "nbconvert_exporter": "python",
   "pygments_lexer": "ipython3",
   "version": "3.10.0"
  }
 },
 "nbformat": 4,
 "nbformat_minor": 5
}
