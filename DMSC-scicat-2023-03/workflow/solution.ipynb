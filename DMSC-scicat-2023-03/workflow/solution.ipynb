{
 "cells": [
  {
   "cell_type": "markdown",
   "id": "99a0bf46-f0b5-4103-a3e5-2529fd21642a",
   "metadata": {},
   "source": [
    "# SciCat workshop exercise\n",
    "\n",
    "This exercise walks you through downloading a dataset and data files from SciCat and uploading processed data to SciCat.\n",
    "It uses a basic, contrived workflow to process the data using [Scipp](https://scipp.github.io/)."
   ]
  },
  {
   "cell_type": "code",
   "execution_count": null,
   "id": "ac5a77c2-d995-4a8b-b1e0-b32603ce104d",
   "metadata": {
    "tags": []
   },
   "outputs": [],
   "source": [
    "import scipp as sc\n",
    "from scitacean import Client, Dataset\n",
    "from scitacean.transfer.ssh import SSHFileTransfer\n",
    "\n",
    "%matplotlib widget"
   ]
  },
  {
   "cell_type": "markdown",
   "id": "912e8374-368b-4bcc-a4c5-be730020f554",
   "metadata": {},
   "source": [
    "## Setup\n",
    "\n",
    "The first cell contains some workshop-specific configuration.\n",
    "\n",
    "The production instance of SciCat is currently located at `\"https://scicat.ess.eu/api/v3\"`.\n",
    "But we use the staging instance here.\n",
    "So we can mess around without having to worry about breaking anything important.\n",
    "\n",
    "The source folder is where the data files for a SciCat dataset are stored.\n",
    "In production, it will typically be under `/ess/data` with a path which encodes instrument, date, and proposal.\n",
    "But that is for permanent storage.\n",
    "Here, we use a path that we have full control over and can play around with.\n",
    "(The `pid.pid` placeholder will ensure that every dataset gets its own folder."
   ]
  },
  {
   "cell_type": "code",
   "execution_count": null,
   "id": "57dde347-bb2f-477c-97b1-863b27cc1426",
   "metadata": {},
   "outputs": [],
   "source": [
    "scicat_url = \"https://staging.scicat.ess.eu/api/v3\"\n",
    "source_folder = \"/mnt/groupdata/scicat/upload/workshop/20230322/{pid.pid}\""
   ]
  },
  {
   "cell_type": "markdown",
   "id": "2ecfe587-8d84-4bbe-b826-10324139fc60",
   "metadata": {},
   "source": [
    "Get your access token from SciCat\n",
    "\n",
    "1. Log in at `https://staging.scicat.ess.eu`\n",
    "2. Click on your user icon in the top-right corner and go to 'Settings'.\n",
    "3. Copy 'Catamel Token' as a string to the `token` variable below."
   ]
  },
  {
   "cell_type": "code",
   "execution_count": null,
   "id": "41061e36-1aec-4033-a8c0-bbb40ebfb6b6",
   "metadata": {},
   "outputs": [],
   "source": [
    "token = \"<YOUR TOKEN>\""
   ]
  },
  {
   "cell_type": "markdown",
   "id": "0b2b3cd0-8aab-414e-83cc-9b7cf7094172",
   "metadata": {},
   "source": [
    "Set the host name that you use to connect to 'login' with SSH.\n",
    "Your `ssh-agent` must be set up to connect to this host without asking for a password / passphrase on the terminal.\n",
    "See `setup.md` for details."
   ]
  },
  {
   "cell_type": "code",
   "execution_count": null,
   "id": "f9173e15-c973-40af-9fcb-56e0a0de9e54",
   "metadata": {
    "tags": []
   },
   "outputs": [],
   "source": [
    "ssh_host = \"login.esss.dk\""
   ]
  },
  {
   "cell_type": "markdown",
   "id": "c131217f-1931-45d7-8404-e255455427bb",
   "metadata": {},
   "source": [
    "## Fetch the input data\n",
    "\n",
    "Create a client to talk to the SciCat server and file server:"
   ]
  },
  {
   "cell_type": "code",
   "execution_count": null,
   "id": "5e10fa0e-8d17-4f29-b2c2-2504529a6dbf",
   "metadata": {},
   "outputs": [],
   "source": [
    "client = Client.from_token(\n",
    "    url=scicat_url,\n",
    "    token=token,\n",
    "    file_transfer=SSHFileTransfer(\n",
    "        host=ssh_host,\n",
    "        source_folder=source_folder,\n",
    "    ),\n",
    ")"
   ]
  },
  {
   "cell_type": "markdown",
   "id": "8c597994-3d91-4056-a6af-403d9b4abd18",
   "metadata": {},
   "source": [
    "Find the ID of the raw dataset in the web interface of SciCat:"
   ]
  },
  {
   "cell_type": "code",
   "execution_count": null,
   "id": "962560c6-cba4-4d3c-beaa-09c1165964e0",
   "metadata": {},
   "outputs": [],
   "source": [
    "input_pid = \"20.500.12269/f5ac29c4-95fa-4bea-bde1-00ea1fbc1b0e\""
   ]
  },
  {
   "cell_type": "markdown",
   "id": "93d0ff8a-a731-4590-b5c6-4ad71c1bde02",
   "metadata": {},
   "source": [
    "1. Download the dataset with the given PID.\n",
    "2. Inspect the dataset to make sure it is the correct one.\n",
    "3. Download its files to a local folder of your choice.\n",
    "\n",
    "Check out https://scicatproject.github.io/scitacean/ to find out how to do this."
   ]
  },
  {
   "cell_type": "code",
   "execution_count": null,
   "id": "f32955ab-20c1-422a-9916-8b13f584307e",
   "metadata": {
    "tags": []
   },
   "outputs": [],
   "source": [
    "raw_dataset = client.get_dataset(input_pid)"
   ]
  },
  {
   "cell_type": "code",
   "execution_count": null,
   "id": "1591aa75-6469-4d91-89ef-9b93b8d615c4",
   "metadata": {
    "tags": []
   },
   "outputs": [],
   "source": [
    "raw_dataset"
   ]
  },
  {
   "cell_type": "code",
   "execution_count": null,
   "id": "69259dc4-f417-4d93-b0b5-ae128e639346",
   "metadata": {
    "tags": []
   },
   "outputs": [],
   "source": [
    "raw_dataset = client.download_files(raw_dataset, target=\"./data\")"
   ]
  },
  {
   "cell_type": "code",
   "execution_count": null,
   "id": "867a3ae6-f28e-4312-bba8-3d6d890abd9c",
   "metadata": {
    "tags": []
   },
   "outputs": [],
   "source": [
    "raw_dataset"
   ]
  },
  {
   "cell_type": "code",
   "execution_count": null,
   "id": "51ff11ed-f930-4296-9cda-061208fecc73",
   "metadata": {
    "tags": []
   },
   "outputs": [],
   "source": [
    "(input_file,) = raw_dataset.files\n",
    "input_file_name = input_file.local_path"
   ]
  },
  {
   "cell_type": "markdown",
   "id": "ee3ca417-70cf-469d-820c-6458d4f95e42",
   "metadata": {},
   "source": [
    "## Process the data\n",
    "\n",
    "The data is a crude mock up of a wavelength spectrum.\n",
    "Your task is to \n",
    "\n",
    "1. Load the data (using `scipp.io.load_hdf5(filename)`).\n",
    "2. Inspect the data, e.g. by plotting it.\n",
    "3. Determine the background and subtract it from the raw data.\n",
    "   Don't go too crazy, just find a decent estimate.\n",
    "4. Find and normalise (divide by) the proton charge.\n",
    "5. Inspect the thus corrected data."
   ]
  },
  {
   "cell_type": "code",
   "execution_count": null,
   "id": "57f78a51-0b4b-4bb8-8a51-03f6c81c323d",
   "metadata": {
    "tags": []
   },
   "outputs": [],
   "source": [
    "raw_data = sc.io.load_hdf5(input_file_name)"
   ]
  },
  {
   "cell_type": "code",
   "execution_count": null,
   "id": "dc9f43be-acbc-4b0e-9665-5e0e8abcd914",
   "metadata": {
    "tags": []
   },
   "outputs": [],
   "source": [
    "raw_data.plot(ls=\"-\", marker=None)"
   ]
  },
  {
   "cell_type": "markdown",
   "id": "f382a0b8-36ea-409d-9526-627761246a4e",
   "metadata": {},
   "source": [
    "Pretend the background is constant in this range and take the average."
   ]
  },
  {
   "cell_type": "code",
   "execution_count": null,
   "id": "3a6bb591-c5cd-4f5e-a5e0-5a1ecb103bb9",
   "metadata": {
    "tags": []
   },
   "outputs": [],
   "source": [
    "background_range = slice(1.3 * sc.Unit(\"Å\"), 1.4 * sc.Unit(\"Å\"))"
   ]
  },
  {
   "cell_type": "code",
   "execution_count": null,
   "id": "feddb661-c5e4-403c-b282-ab21fdf84e0c",
   "metadata": {
    "tags": []
   },
   "outputs": [],
   "source": [
    "background = raw_data[\"wavelength\", background_range].mean()\n",
    "background"
   ]
  },
  {
   "cell_type": "markdown",
   "id": "fe4013ed-b811-48e9-a17d-462d36263dae",
   "metadata": {},
   "source": [
    "Get the proton charge from the dataset."
   ]
  },
  {
   "cell_type": "code",
   "execution_count": null,
   "id": "93be73b9-fb93-41b7-b838-d3012db73297",
   "metadata": {
    "tags": []
   },
   "outputs": [],
   "source": [
    "ch = raw_dataset.meta[\"proton_charge\"]\n",
    "proton_charge = sc.scalar(ch[\"value\"], unit=ch[\"unit\"])\n",
    "proton_charge"
   ]
  },
  {
   "cell_type": "markdown",
   "id": "6ffaf8d8-9ae3-4d69-b700-7ea42a9ff794",
   "metadata": {},
   "source": [
    "Do the correction."
   ]
  },
  {
   "cell_type": "code",
   "execution_count": null,
   "id": "e5a7f74d-8f41-4381-a836-535227126927",
   "metadata": {
    "tags": []
   },
   "outputs": [],
   "source": [
    "corrected = (raw_data - background) / proton_charge"
   ]
  },
  {
   "cell_type": "code",
   "execution_count": null,
   "id": "8687060e-db7b-4c1c-9ee3-3d935fe6f235",
   "metadata": {
    "tags": []
   },
   "outputs": [],
   "source": [
    "corrected.plot(ls=\"-\", marker=None)"
   ]
  },
  {
   "cell_type": "markdown",
   "id": "8f470fd9-55a0-45fb-96eb-abb83571c9ef",
   "metadata": {},
   "source": [
    "## Save the derived data\n",
    "\n",
    "1. Use [DataArray.save_hdf5](https://scipp.github.io/generated/classes/scipp.DataArray.html#scipp.DataArray.save_hdf5) to save the corrected data to file.\n",
    "2. Make a derived dataset from the input dataset and the file you just wrote.\n",
    "   (Tip: Use [Dataset.derive](https://scicatproject.github.io/scitacean/generated/classes/scitacean.Dataset.html#scitacean.Dataset.derive).)\n",
    "3. Inspect the derived dataset in Jupyter.\n",
    "    - Do all fields make sense?\n",
    "    - Is the file path correct?\n",
    "    - Is the scientific metadata meaningful and did you include everything that you might want to access in the future?"
   ]
  },
  {
   "cell_type": "code",
   "execution_count": null,
   "id": "52012c16-40c9-41cc-a111-32bdde48ae17",
   "metadata": {
    "tags": []
   },
   "outputs": [],
   "source": [
    "corrected.save_hdf5(\"data/corrected.h5\")"
   ]
  },
  {
   "cell_type": "code",
   "execution_count": null,
   "id": "466f7a49-e0fb-493b-95d3-bdaf5ebee90b",
   "metadata": {
    "tags": []
   },
   "outputs": [],
   "source": [
    "# Keep a bunch of arguments.\n",
    "# In this case, because the authors of this notebook are also owners of the raw data.\n",
    "# You are probably not!\n",
    "derived = raw_dataset.derive(\n",
    "    keep=(\n",
    "        \"contact_email\",\n",
    "        \"investigator\",\n",
    "        \"orcid_of_owner\",\n",
    "        \"owner\",\n",
    "        \"owner_email\",\n",
    "        \"techniques\",\n",
    "        \"license\",\n",
    "    )\n",
    ")\n",
    "derived.investigator = raw_dataset.principal_investigator\n",
    "# Make sure that you are in this group! Otherwise you cannot access your dataset!\n",
    "derived.owner_group = \"ess\"\n",
    "derived.access_groups = [\"dmsc\"]\n",
    "\n",
    "# Set additional derived-only fields\n",
    "derived.used_software = [f\"scipp=={sc.__version__}\"]"
   ]
  },
  {
   "cell_type": "code",
   "execution_count": null,
   "id": "42618748-3e15-4416-9705-78f051e63f65",
   "metadata": {
    "tags": []
   },
   "outputs": [],
   "source": [
    "# Set scientific metadata.\n",
    "derived.meta[\"background_method\"] = {\"value\": \"average\", \"unit\": \"\"}\n",
    "derived.meta[\"background_range_min\"] = {\"value\": str(background_range.start.value),\n",
    "                                        \"unit\": str(background_range.start.unit)}\n",
    "derived.meta[\"background_range_max\"] = {\"value\": str(background_range.stop.value),\n",
    "                                        \"unit\": str(background_range.stop.unit)}\n",
    "derived.meta[\"background\"] = {\"value\": str(background.value), \"unit\": str(background.unit)}\n",
    "derived.meta[\"proton_charge\"] = raw_dataset.meta[\"proton_charge\"]"
   ]
  },
  {
   "cell_type": "code",
   "execution_count": null,
   "id": "542a46b9-c73f-428a-a07f-b1e986202b1f",
   "metadata": {
    "tags": []
   },
   "outputs": [],
   "source": [
    "derived.add_local_files(\"data/corrected.h5\", base_path=\"data\")"
   ]
  },
  {
   "cell_type": "code",
   "execution_count": null,
   "id": "72e9d430-b9bf-46fb-8dc6-4a75131f43ae",
   "metadata": {
    "tags": []
   },
   "outputs": [],
   "source": [
    "derived"
   ]
  },
  {
   "cell_type": "markdown",
   "id": "5eb5b18e-5a0f-4667-8864-5567b2989dcc",
   "metadata": {},
   "source": [
    "## Upload to SciCat\n",
    "\n",
    "1. Upload the derived dataset and data file to SciCat (using the client from before).\n",
    "   - Use [client.upload_new_dataset_now](https://scicatproject.github.io/scitacean/generated/classes/scitacean.Client.html#scitacean.Client.upload_new_dataset_now).\n",
    "   - Capture the returned datasets and inspect it in Jupyter.\n",
    "2. Inspect the dataset in the web interface and the file with SSH.\n",
    "\n",
    "<div class=\"alert alert-warning\">\n",
    "\n",
    "**Warning**\n",
    "\n",
    "Every time you call `client.upload_new_dataset_now`, it will create a new dataset in SciCat and upload a copy of the file.\n",
    "Ideally, do not keep a call to this function around in the notebook so you don't accidentally end up uploading lots of duplicate data.\n",
    "</div>"
   ]
  },
  {
   "cell_type": "code",
   "execution_count": null,
   "id": "bef4da75-0054-4452-8507-9f2c872f13ce",
   "metadata": {
    "tags": []
   },
   "outputs": [],
   "source": [
    "# finalized = client.upload_new_dataset_now(derived)"
   ]
  },
  {
   "cell_type": "code",
   "execution_count": null,
   "id": "f74a7a2a-afd9-4cc1-b239-633fce3dfc9d",
   "metadata": {
    "tags": []
   },
   "outputs": [],
   "source": [
    "finalized"
   ]
  }
 ],
 "metadata": {
  "kernelspec": {
   "display_name": "Python 3 (ipykernel)",
   "language": "python",
   "name": "python3"
  },
  "language_info": {
   "codemirror_mode": {
    "name": "ipython",
    "version": 3
   },
   "file_extension": ".py",
   "mimetype": "text/x-python",
   "name": "python",
   "nbconvert_exporter": "python",
   "pygments_lexer": "ipython3",
   "version": "3.10.0"
  }
 },
 "nbformat": 4,
 "nbformat_minor": 5
}
