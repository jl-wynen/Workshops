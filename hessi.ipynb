{
 "cells": [
  {
   "cell_type": "markdown",
   "id": "eb6485bf-605d-4252-b0a6-1a6fa50dec01",
   "metadata": {},
   "source": [
    "https://hesperia.gsfc.nasa.gov/rhessi3/data-access/rhessi-data/flare-list/index.html\n",
    "\n",
    "http://sprg.ssl.berkeley.edu/~jimm/hessi/hsi_flare_list.html"
   ]
  },
  {
   "cell_type": "code",
   "execution_count": null,
   "id": "2aa7d08e-374a-402a-9ba8-b2ebd646e6f3",
   "metadata": {
    "tags": []
   },
   "outputs": [],
   "source": [
    "from dataclasses import dataclass\n",
    "import numpy as np\n",
    "import scipp as sc\n",
    "import pandas as pd\n",
    "from datetime import date, datetime, time\n",
    "import re"
   ]
  },
  {
   "cell_type": "code",
   "execution_count": null,
   "id": "17ef52e7-81cc-4822-8e44-8e0562804b4a",
   "metadata": {},
   "outputs": [],
   "source": [
    "infile = 'hessi_flare_list.txt'"
   ]
  },
  {
   "cell_type": "code",
   "execution_count": null,
   "id": "edcc4e64-9538-4b94-8fac-6d090edb2578",
   "metadata": {
    "tags": []
   },
   "outputs": [],
   "source": [
    "def parse_month(m) -> int:\n",
    "    return ['Jan', 'Feb', 'Mar', 'Apr', 'May', 'Jun', 'Jul', 'Aug', 'Sep', 'Oct', 'Nov', 'Dec'].index(m) + 1\n",
    "\n",
    "def parse_date(d) -> date:\n",
    "    day, month, year = d.split('-')\n",
    "    return date(day=int(day), month=parse_month(month), year=int(year))\n",
    "\n",
    "def parse_time(t) -> time:\n",
    "    return time.fromisoformat(t)\n",
    "\n",
    "def parse_datetime(d, t) -> np.datetime64:\n",
    "    dt = datetime.combine(parse_date(d), parse_time(t))\n",
    "    return np.datetime64(int(dt.timestamp()), 's')"
   ]
  },
  {
   "cell_type": "code",
   "execution_count": null,
   "id": "c4423ed8-743e-441b-8b7a-2d3eb8d4799f",
   "metadata": {},
   "outputs": [],
   "source": [
    "def get_quality(flags: list) -> int:\n",
    "    pattern = re.compile(r'Q(\\d)')\n",
    "    for flag in flags:\n",
    "        if match := pattern.match(flag):\n",
    "            return int(match[1])\n",
    "    return -1"
   ]
  },
  {
   "cell_type": "code",
   "execution_count": null,
   "id": "d06a5a58-bf5a-4e6b-9299-0b0c976219df",
   "metadata": {
    "tags": []
   },
   "outputs": [],
   "source": [
    "@dataclass\n",
    "class Entry:\n",
    "    flare_id: int\n",
    "    peak_time: np.datetime64\n",
    "    duration: float\n",
    "    total_counts: float\n",
    "    energy_range: str\n",
    "    x: float\n",
    "    y: float\n",
    "    radial: float\n",
    "    eclipsed: bool\n",
    "    non_solar: bool\n",
    "    quality: int\n",
    "    \n",
    "    @classmethod\n",
    "    def parse(cls, s) -> Entry:\n",
    "        fields = [c for c in s.strip().split(' ') if c]\n",
    "        flags=fields[13:]\n",
    "        eclipsed = 'ED' in flags or 'EE' in flags or 'ES' in flags\n",
    "        non_solar = 'NS' in flags\n",
    "        quality = get_quality(flags)\n",
    "\n",
    "        return cls(\n",
    "        flare_id=int(fields[0]),\n",
    "        peak_time=parse_datetime(fields[1], fields[3]),\n",
    "        duration=float(fields[5]),\n",
    "        total_counts=float(fields[7]),\n",
    "        energy_range=fields[8],\n",
    "        x=float(fields[9]),\n",
    "        y=float(fields[10]),\n",
    "        radial=float(fields[11]),\n",
    "        eclipsed=eclipsed,\n",
    "        non_solar=non_solar,\n",
    "        quality=quality)"
   ]
  },
  {
   "cell_type": "code",
   "execution_count": null,
   "id": "4e20d670-df7b-4b0e-9b75-b23ab3efd07c",
   "metadata": {
    "tags": []
   },
   "outputs": [],
   "source": [
    "def load_txt(fname):\n",
    "    flare_id = []\n",
    "    peak_time = []\n",
    "    duration = []\n",
    "    total_counts = []\n",
    "    energy_range = []\n",
    "    x_pos = []\n",
    "    y_pos = []\n",
    "    radial = []\n",
    "    eclipsed = []\n",
    "    origin = []\n",
    "    quality = []\n",
    "    \n",
    "    # Use to remove duplicates.\n",
    "    # Way faster than searching through flare_id for every line.\n",
    "    seen = set()\n",
    "\n",
    "    with open(fname, 'r') as f:\n",
    "        for _ in range(7):\n",
    "            f.readline()\n",
    "\n",
    "        while line := f.readline().strip():\n",
    "            entry = Entry.parse(line)\n",
    "            if entry.quality == -1:\n",
    "                continue\n",
    "            if entry.flare_id in seen:\n",
    "                continue\n",
    "            seen.add(entry.flare_id)\n",
    "            \n",
    "            flare_id.append(entry.flare_id)\n",
    "            peak_time.append(entry.peak_time)\n",
    "            duration.append(entry.duration)\n",
    "            total_counts.append(entry.total_counts)\n",
    "            energy_range.append(entry.energy_range)\n",
    "            x_pos.append(entry.x)\n",
    "            y_pos.append(entry.y)\n",
    "            radial.append(entry.radial)\n",
    "            eclipsed.append(entry.eclipsed)\n",
    "            origin.append('non_solar' if entry.non_solar else 'solar')\n",
    "            quality.append(entry.quality)\n",
    "            \n",
    "    return sc.DataArray(\n",
    "        sc.array(dims=['event'], values=total_counts, unit='count'),\n",
    "        coords={\n",
    "            'time': sc.array(dims=['event'], values=peak_time, unit='s'),\n",
    "            'duration': sc.array(dims=['event'], values=duration, unit='s'),\n",
    "            'x': sc.array(dims=['event'], values=x_pos, unit='asec'),\n",
    "            'y': sc.array(dims=['event'], values=y_pos, unit='asec'),\n",
    "            'radial': sc.array(dims=['event'], values=radial, unit='asec'),\n",
    "        },\n",
    "        attrs={\n",
    "            'energy_range': sc.array(dims=['event'], values=energy_range),\n",
    "            'eclipsed': sc.array(dims=['event'], values=eclipsed),\n",
    "            'origin': sc.array(dims=['event'], values=origin),\n",
    "            'quality':sc.array(dims=['event'],values=quality),\n",
    "        }\n",
    "    )\n",
    "\n",
    "da = load_txt(infile)"
   ]
  },
  {
   "cell_type": "code",
   "execution_count": null,
   "id": "48702de6-583d-4a50-bb6f-f89ced8d8237",
   "metadata": {
    "tags": []
   },
   "outputs": [],
   "source": [
    "da.masks['pos'] = (da.coords['x'] == 0*sc.Unit('asec')) & (da.coords['y'] == 0*sc.Unit('asec'))"
   ]
  },
  {
   "cell_type": "code",
   "execution_count": null,
   "id": "2a035713-50fb-487e-91e8-c4311e7a4cbb",
   "metadata": {
    "tags": []
   },
   "outputs": [],
   "source": [
    "da"
   ]
  },
  {
   "cell_type": "code",
   "execution_count": null,
   "id": "6363fda8-e1a1-4db7-863f-83187d3d2b2c",
   "metadata": {
    "tags": []
   },
   "outputs": [],
   "source": [
    "sc.bin(da, edges=[sc.linspace('x', -700, 700, 100, unit='asec')]).plot()"
   ]
  },
  {
   "cell_type": "code",
   "execution_count": null,
   "id": "553d0d94-a9b9-43a8-8e60-9e91502f6780",
   "metadata": {
    "tags": []
   },
   "outputs": [],
   "source": [
    "sc.bin(da, edges=[sc.linspace('y', -700, 700, 100, unit='asec')]).plot()"
   ]
  },
  {
   "cell_type": "code",
   "execution_count": null,
   "id": "6ed6b99d-4086-444c-8dab-3d94970242ce",
   "metadata": {
    "tags": []
   },
   "outputs": [],
   "source": [
    "sc.bin(da, edges=[sc.linspace('radial', 0, 700, 100, unit='asec')]).plot()"
   ]
  },
  {
   "cell_type": "code",
   "execution_count": null,
   "id": "c5395749-89ca-4fb2-8f08-fed2919d25b7",
   "metadata": {},
   "outputs": [],
   "source": []
  }
 ],
 "metadata": {
  "kernelspec": {
   "display_name": "Python 3 (ipykernel)",
   "language": "python",
   "name": "python3"
  },
  "language_info": {
   "codemirror_mode": {
    "name": "ipython",
    "version": 3
   },
   "file_extension": ".py",
   "mimetype": "text/x-python",
   "name": "python",
   "nbconvert_exporter": "python",
   "pygments_lexer": "ipython3",
   "version": "3.8.12"
  }
 },
 "nbformat": 4,
 "nbformat_minor": 5
}
