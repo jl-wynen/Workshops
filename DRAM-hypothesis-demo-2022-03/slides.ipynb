{
 "cells": [
  {
   "cell_type": "markdown",
   "id": "ea713d47-e04f-4698-9725-7440cf95e284",
   "metadata": {
    "slideshow": {
     "slide_type": "slide"
    }
   },
   "source": [
    "<img src='images/dragonfly-rainbow.svg' width=\"300em\" style=\"display: block; margin-left: auto; margin-right: auto;\">\n",
    "\n",
    "<div style=\"text-align: center;\">Property-based testing with hypothesis</div>"
   ]
  },
  {
   "cell_type": "markdown",
   "id": "fcb82049",
   "metadata": {
    "slideshow": {
     "slide_type": "slide"
    }
   },
   "source": [
    "- inspired by QuickCheck for Haskell\n",
    "- not quite random but 'arbitrary'\n",
    "- property based testing\n",
    "- strategies to define / structure inputs\n",
    "- replays failures\n",
    "    - but do not share database!\n",
    "        - can be lost when updating hypothesis\n",
    "        - or when changing test (or rest of code -> contains coverage info)\n",
    "        - include examples in code explicitly\n",
    "        \n",
    "- example: which (run-length encoding from hypo docs rather complicated)\n",
    "- integrates with pytest, unittest\n",
    "- defining strategies\n",
    "- builtin: integers, text, lists, numpy, pandas, etc\n",
    "- user Verbosity.verbose to demo what happens, does not work in Pycharm (or use pytest -s)"
   ]
  },
  {
   "cell_type": "code",
   "execution_count": null,
   "id": "e299b2f8",
   "metadata": {},
   "outputs": [],
   "source": []
  }
 ],
 "metadata": {
  "celltoolbar": "Slideshow",
  "kernelspec": {
   "display_name": "Python 3 (ipykernel)",
   "language": "python",
   "name": "python3"
  },
  "language_info": {
   "codemirror_mode": {
    "name": "ipython",
    "version": 3
   },
   "file_extension": ".py",
   "mimetype": "text/x-python",
   "name": "python",
   "nbconvert_exporter": "python",
   "pygments_lexer": "ipython3",
   "version": "3.9.12"
  },
  "rise": {
   "enable_chalkboard": true,
   "footer": "<h3 style='text-align: center; width: 100%;'><a rel='license' href='http://creativecommons.org/licenses/by/4.0/'><img alt='Creative Commons Licence' style='border-width:0' src='https://i.creativecommons.org/l/by/4.0/88x31.png' /></a>&nbsp;&nbsp;&nbsp;&nbsp;Jan-Lukas Wynen</h3>",
   "theme": "serif",
   "transition": "slide"
  }
 },
 "nbformat": 4,
 "nbformat_minor": 5
}
