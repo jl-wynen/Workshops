{
 "cells": [
  {
   "cell_type": "markdown",
   "id": "ea713d47-e04f-4698-9725-7440cf95e284",
   "metadata": {
    "slideshow": {
     "slide_type": "slide"
    }
   },
   "source": [
    "<img src='images/dragonfly-rainbow.svg' width=\"300em\" style=\"display: block; margin-left: auto; margin-right: auto;\">\n",
    "\n",
    "<div style=\"text-align: center;\">Property-based testing with hypothesis</div>"
   ]
  },
  {
   "cell_type": "markdown",
   "id": "ccb86b01",
   "metadata": {
    "slideshow": {
     "slide_type": "slide"
    }
   },
   "source": [
    "- Inspired by QuickCheck for Haskell\n",
    "- Generates inputs for tests\n",
    "- ~Random~ 'Arbitrary'\n",
    "- For testing properties"
   ]
  },
  {
   "cell_type": "markdown",
   "id": "aef7c8a4",
   "metadata": {
    "slideshow": {
     "slide_type": "slide"
    }
   },
   "source": [
    "## Example: Run-length encoding\n",
    "\n",
    "<br>\n",
    "<br>\n",
    "<img src='images/pycharm-1.svg' width=\"50%\" style=\"display: block; margin-left: auto; margin-right: auto;\">"
   ]
  },
  {
   "cell_type": "markdown",
   "id": "a932590f",
   "metadata": {
    "slideshow": {
     "slide_type": "slide"
    }
   },
   "source": [
    "### Builtin strategies"
   ]
  },
  {
   "cell_type": "code",
   "execution_count": null,
   "id": "bad9ab69",
   "metadata": {},
   "outputs": [],
   "source": [
    "from hypothesis import given\n",
    "from hypothesis import strategies as st\n",
    "import scipp as sc\n",
    "\n",
    "@given(st.lists(st.integers()))\n",
    "def test_reverse(l):\n",
    "    assert l[::-1][::-1] == l\n",
    "\n",
    "\n",
    "@given(st.dictionaries(keys=st.text(),\n",
    "                       values=st.integers(min_value=0, max_value=10),\n",
    "                       max_size=4))\n",
    "def test_array_sizes(sizes):\n",
    "    assert sc.zeros(sizes=sizes).sizes == sizes"
   ]
  },
  {
   "cell_type": "markdown",
   "id": "a8df86ce",
   "metadata": {
    "slideshow": {
     "slide_type": "slide"
    }
   },
   "source": [
    "### Creating strategies"
   ]
  },
  {
   "cell_type": "code",
   "execution_count": null,
   "id": "08c49e34",
   "metadata": {},
   "outputs": [],
   "source": [
    "def sizes_dictionaries() -> st.SearchStrategy:\n",
    "    return st.dictionaries(keys=st.text(),\n",
    "                           values=st.integers(min_value=0, max_value=10),\n",
    "                           max_size=4)\n",
    "\n",
    "\n",
    "def zero_variables(sizes: st.SearchStrategy) -> st.SearchStrategy:\n",
    "    return sizes.map(lambda s: sc.zeros(sizes=s))\n",
    "\n",
    "\n",
    "@given(zero_variables(sizes_dictionaries()))\n",
    "def test_zeros_all_elements_are_zero(var):\n",
    "    assert sc.all(var == 0).value"
   ]
  },
  {
   "cell_type": "markdown",
   "id": "fcb82049",
   "metadata": {
    "slideshow": {
     "slide_type": "slide"
    }
   },
   "source": [
    "\n",
    "- strategies to define / structure inputs\n",
    "- replays failures\n",
    "    - but do not share database!\n",
    "        - can be lost when updating hypothesis\n",
    "        - or when changing test (or rest of code -> contains coverage info)\n",
    "        - include examples in code explicitly\n",
    "        \n",
    "- defining strategies\n",
    "- builtin: integers, text, lists, numpy, pandas, etc\n",
    "- user Verbosity.verbose to demo what happens, does not work in Pycharm (or use pytest -s)"
   ]
  },
  {
   "cell_type": "code",
   "execution_count": null,
   "id": "e299b2f8",
   "metadata": {},
   "outputs": [],
   "source": []
  }
 ],
 "metadata": {
  "celltoolbar": "Slideshow",
  "kernelspec": {
   "display_name": "Python 3 (ipykernel)",
   "language": "python",
   "name": "python3"
  },
  "language_info": {
   "codemirror_mode": {
    "name": "ipython",
    "version": 3
   },
   "file_extension": ".py",
   "mimetype": "text/x-python",
   "name": "python",
   "nbconvert_exporter": "python",
   "pygments_lexer": "ipython3",
   "version": "3.9.12"
  },
  "rise": {
   "enable_chalkboard": true,
   "footer": "<h3 style='text-align: center; width: 100%;'><a rel='license' href='http://creativecommons.org/licenses/by/4.0/'><img alt='Creative Commons Licence' style='border-width:0' src='https://i.creativecommons.org/l/by/4.0/88x31.png' /></a>&nbsp;&nbsp;&nbsp;&nbsp;Jan-Lukas Wynen</h3>",
   "theme": "serif",
   "transition": "slide"
  }
 },
 "nbformat": 4,
 "nbformat_minor": 5
}
