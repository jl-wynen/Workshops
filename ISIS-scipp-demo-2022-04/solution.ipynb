{
 "cells": [
  {
   "cell_type": "markdown",
   "id": "ae0c6664-2a07-47e7-a411-f45773fd6eeb",
   "metadata": {
    "tags": []
   },
   "source": [
    "# Tutorial: RHESSI Solar Flares"
   ]
  },
  {
   "cell_type": "markdown",
   "id": "c9a2cc2e-dc54-4c2d-981e-9f2a7fa22387",
   "metadata": {
    "tags": []
   },
   "source": [
    "This tutorial covers the basics of binned data in scipp by analyzing the list of solar flares recorded by NASA's RHESSI small explorer [[1](#lin2002)].\n",
    "\n",
    "You will learn how to construct binned data from an event list, how to modify the binning in order to extract different quantities, and how to filter event and binned data.\n",
    "\n",
    "The input data has been constructed from the official [flare list](https://hesperia.gsfc.nasa.gov/rhessi3/data-access/rhessi-data/flare-list/index.html) and is available as a HDF5 file in scipp's own format.\n",
    "It can either be downloaded from https://public.esss.dk/groups/scipp/scipp/1/rhessi_flares.h5 or constructed by running [prepare_exercise_data_rhessi.py](https://github.com/jl-wynen/Workshops/blob/main/ISIS-scipp-demo-2022-04/prepare_exercise_data_rhessi.py) which will download the original flare list and convert it to the proper format.\n",
    "\n",
    "<div class=\"alert alert-warning\">\n",
    "\n",
    "**Attention**\n",
    "\n",
    "The tutorial data has been filtered and modified.\n",
    "It should not be used for any actual scientific analyses!\n",
    "\n",
    "See [prepare_exercise_data_rhessi.py](https://github.com/jl-wynen/Workshops/blob/main/ISIS-scipp-demo-2022-04/prepare_exercise_data_rhessi.py) for details.\n",
    "</div>\n",
    "\n",
    "<a id='lin2002'></a>\n",
    "> [1] Lin, R., Dennis, B., Hurford, G. et al. *The Reuven Ramaty High-Energy Solar Spectroscopic Imager (RHESSI)*. Sol Phys 210, 3–32 (**2002**). [doi:10.1023/A:1022428818870](https://doi.org/10.1023/A:1022428818870)"
   ]
  },
  {
   "cell_type": "markdown",
   "id": "d1c256c4-f55c-49e0-bff0-99da53c4f47a",
   "metadata": {},
   "source": [
    "# 1 Loading and preprocessing data"
   ]
  },
  {
   "cell_type": "code",
   "execution_count": null,
   "id": "31ded75c-b917-4db4-9117-e5546b2dd9bb",
   "metadata": {
    "tags": []
   },
   "outputs": [],
   "source": [
    "import scipp as sc"
   ]
  },
  {
   "cell_type": "markdown",
   "id": "3cdb853b-8382-4b37-bcbb-dd75857e7d1e",
   "metadata": {},
   "source": [
    "### 1.1 Load Flare List"
   ]
  },
  {
   "cell_type": "markdown",
   "id": "dbb321a3-0993-44cd-bb8a-1802cc9ed71d",
   "metadata": {},
   "source": [
    "The data (`flares.data`) contains a weight for each flare.\n",
    "Initially, all weights are 1.\n",
    "\n",
    "The most important metadata items are:\n",
    "- `start_time`, `end_time`: Time interval of flare.\n",
    "- `peak_time`: Date and time of the highest flux.\n",
    "- `x`, `y`: Position in the image seen by RHESSI.\n",
    "- `min_energy`, `max_energy`: Energy band that a flare was observed in. Bands do not overlap.\n",
    "- `non_solar`: The event was flagged as not coming from the Sun."
   ]
  },
  {
   "cell_type": "code",
   "execution_count": null,
   "id": "86c3f363-21d8-47f5-9ec7-992544e6fdf6",
   "metadata": {
    "tags": []
   },
   "outputs": [],
   "source": [
    "flares = sc.io.open_hdf5('data/rhessi_flares.h5')\n",
    "flares"
   ]
  },
  {
   "cell_type": "markdown",
   "id": "3aa11b4b-c769-4a7d-a114-cc496be4ed93",
   "metadata": {
    "tags": []
   },
   "source": [
    "### 1.2 Inspect the Loaded Data"
   ]
  },
  {
   "cell_type": "markdown",
   "id": "28450a77-9148-491f-983b-bd120a9ea3d5",
   "metadata": {
    "tags": []
   },
   "source": [
    "Begin by inspecting the data array to gain a basic understanding of the data.\n",
    "This task is open-ended, and you can continue when you feel confident that you know what `flares` contains.\n",
    "\n",
    "Possible actions:\n",
    "- Use [scipp.show](https://scipp.github.io/generated/functions/scipp.show.html) and [scipp.table](https://scipp.github.io/generated/functions/scipp.table.html) in addition to the HTML output of the cell above.\n",
    "- Extract individual coordinates and attributes using `flares.coords['<name>']` and `flares.attrs['<name>']`.\n",
    "- Plot the data. To get meaningful plots, you can construct auxiliary data arrays and plot them using\n",
    "\n",
    "```python\n",
    "sc.plot(sc.DataArray(<what_goes_on_y_axis>,\n",
    "                     coords={'<name>': <what_goes_on_x_axis>}))\n",
    "```\n",
    "\n",
    "You can answer the following questions or find your own.\n",
    "- How many flares are there in the dataset?\n",
    "- How many flares are flagged as 'non_solar'?\n",
    "- What is the time range of the data?\n",
    "\n",
    "**Tip**: Use [scipp.sum](https://scipp.github.io/generated/functions/scipp.sum.html), [scipp.max](https://scipp.github.io/generated/functions/scipp.max.html), and [scipp.min](https://scipp.github.io/generated/functions/scipp.min.html) with the coordinates and attributes of `flares`."
   ]
  },
  {
   "cell_type": "code",
   "execution_count": null,
   "id": "5d9d237d-0918-4db6-bd37-567048c87f17",
   "metadata": {
    "tags": []
   },
   "outputs": [],
   "source": [
    "# number of flares:\n",
    "flares.sizes['flare']"
   ]
  },
  {
   "cell_type": "code",
   "execution_count": null,
   "id": "f1954042-2173-48d3-9e32-48cb570759a0",
   "metadata": {
    "tags": []
   },
   "outputs": [],
   "source": [
    "# number flagged as non-solar:\n",
    "flares.attrs['non_solar'].sum()"
   ]
  },
  {
   "cell_type": "code",
   "execution_count": null,
   "id": "88a28628-d7c1-4cc8-b843-7785ae4782a9",
   "metadata": {
    "tags": []
   },
   "outputs": [],
   "source": [
    "# time range:\n",
    "flares.coords['start_time'].min(), flares.coords['end_time'].max()"
   ]
  },
  {
   "cell_type": "markdown",
   "id": "e93c038d-564f-4a73-8f8a-190a42e18aaa",
   "metadata": {},
   "source": [
    "### 1.3 Compute Duration"
   ]
  },
  {
   "cell_type": "markdown",
   "id": "e42adacc-4a6f-431b-af35-0b1e4dd2b2ed",
   "metadata": {},
   "source": [
    "Calculate the duration of flares as `end_time - start_time` and store the result as a new coordinate in `flares`.\n",
    "Remember that `flares.coords` functions like a Python `dict`."
   ]
  },
  {
   "cell_type": "code",
   "execution_count": null,
   "id": "6ec83d14-a99c-4b76-8c96-2616504c7bb0",
   "metadata": {
    "tags": []
   },
   "outputs": [],
   "source": [
    "# simple\n",
    "duration = flares.coords['end_time'] - flares.coords['start_time']\n",
    "flares.coords['duration'] = duration\n",
    "\n",
    "\n",
    "# advanced\n",
    "# def compute_duration(start_time, end_time):\n",
    "#     return end_time - start_time\n",
    "#\n",
    "#\n",
    "# flares.transform_coords('duration', {'duration': compute_duration})"
   ]
  },
  {
   "cell_type": "code",
   "execution_count": null,
   "id": "ac47b61a-a144-47aa-a45b-f49f7db0b069",
   "metadata": {},
   "outputs": [],
   "source": [
    "flares"
   ]
  },
  {
   "cell_type": "markdown",
   "id": "6dcf2575-ac6d-400e-9aa7-7a6989b20841",
   "metadata": {},
   "source": [
    "What is the combined duration of flares?\n",
    "(Find an appropriate function in https://scipp.github.io/reference/free-functions.html#reduction)"
   ]
  },
  {
   "cell_type": "code",
   "execution_count": null,
   "id": "8346ed0f-a8f1-4b76-a739-a45dcbcb1e32",
   "metadata": {
    "tags": []
   },
   "outputs": [],
   "source": [
    "sc.sum(duration).to(unit='D', dtype='float64')"
   ]
  },
  {
   "cell_type": "markdown",
   "id": "b5097a65-69cb-4869-a59f-3659ec507f9f",
   "metadata": {},
   "source": [
    "### 1.4 Create Masks"
   ]
  },
  {
   "cell_type": "markdown",
   "id": "dc6d5a37-f492-4500-b083-51139611b4c5",
   "metadata": {},
   "source": [
    "Some events in the input data did not originate from the Sun.\n",
    "\n",
    "There are two options for handling those events, removing them or masking them.\n",
    "You can choose a solution, but the descriptions guide you through masking, which is a method for removing events non-destructively.\n",
    "That is, the masks can be removed later to get the full event list back in order to determine the impact of the masks.\n",
    "\n",
    "First, store `'non_solar'` as a mask and remove it from the attributes.\n",
    "Use `flares.attrs` and `flares.masks` which are `dict`-like objects (similar to `flares.coords`)."
   ]
  },
  {
   "cell_type": "code",
   "execution_count": null,
   "id": "32eea6cf-382d-4599-a9a9-0598e00065bf",
   "metadata": {
    "tags": []
   },
   "outputs": [],
   "source": [
    "flares.masks['non_solar'] = flares.attrs.pop('non_solar')"
   ]
  },
  {
   "cell_type": "markdown",
   "id": "baf4b39e-1349-4ffd-bd3f-820e0a318202",
   "metadata": {},
   "source": [
    "Second, there are some flares whose positions could not be determined.\n",
    "Those are stored with `x == y == 0` and need to be removed, as well.\n",
    "\n",
    "Construct a boolean variable by comparing `flares.coords['<x_or_y>']` to 0.\n",
    "Note that `x` and `y` have unit 'asec'.\n",
    "This means that you have to construct a '0' with the same unit which can be done using `0 * sc.Unit('asec')`.\n",
    "\n",
    "Finally, combine the variables for `x` and `y` using `mask_x | mask_y` and store the result as a new mask in `flares`."
   ]
  },
  {
   "cell_type": "code",
   "execution_count": null,
   "id": "fb12e145-fc04-4188-bd66-46bccc71af7d",
   "metadata": {
    "tags": []
   },
   "outputs": [],
   "source": [
    "flares.masks['unknown_position'] = (\n",
    "    (flares.coords['x'] == 0 * sc.Unit('asec')) |\n",
    "    (flares.coords['y'] == 0 * sc.Unit('asec')))"
   ]
  },
  {
   "cell_type": "code",
   "execution_count": null,
   "id": "3a3f2ace-3c60-4e4f-ad3f-a8b9873e3f71",
   "metadata": {},
   "outputs": [],
   "source": [
    "flares"
   ]
  },
  {
   "cell_type": "markdown",
   "id": "b24196a9-76ba-4a03-90ca-4d1e9192c99b",
   "metadata": {},
   "source": [
    "How many flares are now masked? (By each mask individually and by the combination.)\n",
    "\n",
    "**TIP**: You can `sum` booleans."
   ]
  },
  {
   "cell_type": "code",
   "execution_count": null,
   "id": "8355be61-4d30-4c17-8b7a-4f250cd3786e",
   "metadata": {
    "tags": []
   },
   "outputs": [],
   "source": [
    "ns_mask = flares.masks['non_solar']\n",
    "pos_mask = flares.masks['unknown_position']\n",
    "{\n",
    "    'non_solar': ns_mask.sum().value,\n",
    "    'unknown_position': pos_mask.sum().value,\n",
    "    'combined': sc.sum(ns_mask | pos_mask).value,\n",
    "}"
   ]
  },
  {
   "cell_type": "markdown",
   "id": "13b063d3-a932-41c9-a63c-1a9566e9417e",
   "metadata": {},
   "source": [
    "## 2 Spatial Distribution"
   ]
  },
  {
   "cell_type": "markdown",
   "id": "eac62e2d-c2cf-4749-b211-df7d561ea6fc",
   "metadata": {},
   "source": [
    "### 2.1 Bin by x and y"
   ]
  },
  {
   "cell_type": "markdown",
   "id": "f34e4191-aaf5-4d3b-b3ba-375f745f8ba9",
   "metadata": {},
   "source": [
    "Plot the spatial distribution of flares.\n",
    "\n",
    "Plotting the event list `flares` would yield a scatter plot which is not particularly useful.\n",
    "A better approach is computing and plotting the density as a function of `x` and `y`.\n",
    "This is commonly done by histogramming the events.\n",
    "But scipp offers an alternative: binning.\n",
    "\n",
    "Scipp's 'binned data' is similar to a histogram, except that the individual events are preserved.\n",
    "They are simply collected into bins as defined by bin-edge coordinates.\n",
    "\n",
    "Define bin-edges for `x` and `y`, use [scipp.bin](https://scipp.github.io/generated/functions/scipp.bin.html) to create binned data from `flares`, and plot the result.\n",
    "\n",
    "**Tip**:\n",
    "- Use [scipp.arange](https://scipp.github.io/generated/functions/scipp.arange.html) or [scipp.linspace](https://scipp.github.io/generated/functions/scipp.linspace.html) to construct the edges. Make sure to use the correct unit!\n",
    "- Use `sc.bin(flares, edges=[<edge_x>, <edge_y>])`.\n",
    "- Turn your binned data into a histogram before plotting using `<binned>.bins.sum()`.\n",
    "- See [Plotting 2D data](https://scipp.github.io/visualization/plotting/plotting-2d-data.html) for the relevant parts of the plotting API."
   ]
  },
  {
   "cell_type": "code",
   "execution_count": null,
   "id": "ec1770ef-528d-4f74-aeca-362a72c09905",
   "metadata": {
    "tags": []
   },
   "outputs": [],
   "source": [
    "spatial = sc.bin(flares,\n",
    "                 edges=[\n",
    "                     sc.linspace('y', -1200, 1200, 100, unit='asec'),\n",
    "                     sc.linspace('x', -1200, 1200, 100, unit='asec')\n",
    "                 ])"
   ]
  },
  {
   "cell_type": "code",
   "execution_count": null,
   "id": "d094a425-21e4-4607-9530-24c9ec343277",
   "metadata": {
    "tags": []
   },
   "outputs": [],
   "source": [
    "spatial.bins.sum().plot(aspect='equal',\n",
    "                        norm='log',\n",
    "                        labels={\n",
    "                            'x': 'x [asec]',\n",
    "                            'y': 'y [asec]'\n",
    "                        },\n",
    "                        cmap='inferno')"
   ]
  },
  {
   "cell_type": "markdown",
   "id": "51110da7-380d-4148-b6ca-aa2d0b7d0e9c",
   "metadata": {},
   "source": [
    "### 2.2 Remove Outliers"
   ]
  },
  {
   "cell_type": "markdown",
   "id": "ec304dcf-0026-4abb-a758-eca093219b5a",
   "metadata": {},
   "source": [
    "The plot shows a lot of outliers.\n",
    "They are not the non-solar events because those are not visible in the plot as they were masked out.\n",
    "Instead, the outliers are caused by RHESSI's electronics or analysis software glitching out and assigning bad positions to the flares.\n",
    "This includes the circular shape even though it looks deceptively sun-like.\n",
    "\n",
    "The flare list does not include enough information to exclude all such bad positions.\n",
    "But the instrument can only detect x-rays for $x \\in [-1000~\\text{asec}, 1000~\\text{asec}]$ and $y \\in [-600~\\text{asec}, 600~\\text{asec}]$.\n",
    "So to first order, all events outside that range should be removed.\n",
    "\n",
    "Instead of using a mask as before, use binning this time.\n",
    "Create new bin-edges for `x` and `y` with the proper limits and bin the data with them, this will remove all events outside the valid range.\n",
    "Plot the result.\n",
    "(You can either bin the original `flares` data array or apply new bins to the previously binned array; both via [scipp.bin](https://scipp.github.io/generated/functions/scipp.bin.html))."
   ]
  },
  {
   "cell_type": "code",
   "execution_count": null,
   "id": "666f24d2-a8ff-493a-993e-efdd478dead5",
   "metadata": {
    "tags": []
   },
   "outputs": [],
   "source": [
    "# n bins such that bins are square\n",
    "spatial = sc.bin(flares,\n",
    "                 edges=[\n",
    "                     sc.linspace('y', -600, 600, 90, unit='asec'),\n",
    "                     sc.linspace('x', -1000, 1000, 150, unit='asec')\n",
    "                 ])"
   ]
  },
  {
   "cell_type": "code",
   "execution_count": null,
   "id": "98a59f36-f500-4986-a53a-848d0bef692d",
   "metadata": {
    "tags": []
   },
   "outputs": [],
   "source": [
    "spatial.bins.sum().plot(aspect='equal',\n",
    "                        norm='log',\n",
    "                        labels={\n",
    "                            'x': 'x [asec]',\n",
    "                            'y': 'y [asec]'\n",
    "                        },\n",
    "                        cmap='inferno')"
   ]
  },
  {
   "cell_type": "markdown",
   "id": "ef565c40-3bd4-46a8-8b2d-bef301518705",
   "metadata": {},
   "source": [
    "### 2.3 Correct for Detector Efficiency"
   ]
  },
  {
   "cell_type": "markdown",
   "id": "1bf0f6ea-e3a6-41db-8b18-7239b34071e0",
   "metadata": {},
   "source": [
    "In this tutorial, we assume that the instrument consists of a 3x3 grid of detectors which each record x-rays from distinct directions.\n",
    "(The reality is more complicated, of course. See the [wiki](https://sprg.ssl.berkeley.edu/~tohban/wiki/index.php/Category:RHESSI) for more information.)\n",
    "Furthermore, the tutorial data has been manipulated to simulate different efficiencies of the individual detectors.\n",
    "\n",
    "The efficiency is available as an attribute:"
   ]
  },
  {
   "cell_type": "code",
   "execution_count": null,
   "id": "6064650d-13cf-4321-a26d-8c95a6cc2d87",
   "metadata": {
    "tags": []
   },
   "outputs": [],
   "source": [
    "efficiency = flares.attrs['detector_efficiency'].value\n",
    "efficiency"
   ]
  },
  {
   "cell_type": "markdown",
   "id": "09e44b83-25dd-45fe-b9e1-57d5b1bd3467",
   "metadata": {},
   "source": [
    "Normalize the data by dividing by `efficiency`.\n",
    "You first need to bin into the correct bins as defined by the coordinates of `efficiency`."
   ]
  },
  {
   "cell_type": "code",
   "execution_count": null,
   "id": "ec33d45e-a660-4a7e-b3ae-7677221249b5",
   "metadata": {
    "tags": []
   },
   "outputs": [],
   "source": [
    "coarse_spatial = sc.bin(spatial, edges=[efficiency.coords['x'], efficiency.coords['y']])\n",
    "corrected = coarse_spatial / efficiency"
   ]
  },
  {
   "cell_type": "markdown",
   "id": "b8b78bf0-362b-4e17-903e-37261f08a2b9",
   "metadata": {},
   "source": [
    "You can plot the corrected data as before.\n",
    "But it makes sense to return to smaller bins in order to resolve the distribution properly.\n",
    "This can be done using [scipp.bin](https://scipp.github.io/generated/functions/scipp.bin.html) with finer edges because the data was only binned and not histogrammed."
   ]
  },
  {
   "cell_type": "code",
   "execution_count": null,
   "id": "c0d60097-8796-462c-bd7a-c21b76eb81fe",
   "metadata": {
    "tags": []
   },
   "outputs": [],
   "source": [
    "# n bins such that bins are square\n",
    "spatial = sc.bin(corrected,\n",
    "                 edges=[\n",
    "                     sc.linspace('y', -600, 600, 90, unit='asec'),\n",
    "                     sc.linspace('x', -1000, 1000, 150, unit='asec')\n",
    "                 ])"
   ]
  },
  {
   "cell_type": "code",
   "execution_count": null,
   "id": "00fef7ac-2907-4457-bd55-5ee1e1635eb5",
   "metadata": {
    "tags": []
   },
   "outputs": [],
   "source": [
    "spatial.bins.sum().plot(aspect='equal',\n",
    "                        norm='log',\n",
    "                        labels={\n",
    "                            'x': 'x [asec]',\n",
    "                            'y': 'y [asec]'\n",
    "                        },\n",
    "                        cmap='inferno')"
   ]
  },
  {
   "cell_type": "markdown",
   "id": "aa228f77-04fb-49ca-afea-d2644fc4ce21",
   "metadata": {
    "execution": {
     "iopub.execute_input": "2022-03-28T13:59:19.234762Z",
     "iopub.status.busy": "2022-03-28T13:59:19.234105Z",
     "iopub.status.idle": "2022-03-28T13:59:19.243127Z",
     "shell.execute_reply": "2022-03-28T13:59:19.241713Z",
     "shell.execute_reply.started": "2022-03-28T13:59:19.234635Z"
    }
   },
   "source": [
    "## 3 Time Series"
   ]
  },
  {
   "cell_type": "markdown",
   "id": "957d42ca-84a1-43ac-9e30-c2d91d9e3452",
   "metadata": {},
   "source": [
    "Now, we want to look at the distribution of flares over time.\n",
    "The temporal distribution can be obtained like the spatial one using binning.\n",
    "\n",
    "Select one of the time coordinates (e.g. 'peak_time') and construct appropriate bin-edges using [scipp.arange](https://scipp.github.io/generated/functions/scipp.arange.html) that cover the whole range.\n",
    "Bin the data by those edges and plot the result.\n",
    "\n",
    "**Important**: Use the pre-binned data from the previous task in order to include the detector normalization.\n",
    "\n",
    "**Tip**:\n",
    "- The time coordinates are event-coordinates, that is, they are not defined at the top level of the binned data (i.e. per bin) but inside of the bins (i.e. per event). You can access them using `<binned>.bins.coords['preak_time']`.\n",
    "- You can add binning by time using `sc.bin(<binned>, edges=[<time_edges>])` and produce a three-dimensional array.\n",
    "  But here, we are more interested in a one-dimensional distribution which can be obtained using `sc.bin(<binned>, edges=[<time_edges>], erase=['x', 'y'])`."
   ]
  },
  {
   "cell_type": "code",
   "execution_count": null,
   "id": "46548a50-c7d3-4722-a806-87331b6c0f68",
   "metadata": {
    "tags": []
   },
   "outputs": [],
   "source": [
    "time = spatial.bins.coords['peak_time']\n",
    "min_time = time.min().value\n",
    "max_time = time.max().value\n",
    "step = (max_time - min_time) / 200\n",
    "time_edges = sc.arange('peak_time',\n",
    "                       min_time,\n",
    "                       max_time,\n",
    "                       step,\n",
    "                       unit=time.bins.unit)"
   ]
  },
  {
   "cell_type": "code",
   "execution_count": null,
   "id": "fd6b4ce9-7977-4131-8a0f-4cdc1b4863ce",
   "metadata": {
    "tags": []
   },
   "outputs": [],
   "source": [
    "temporal_and_spatial = sc.bin(spatial, edges=[time_edges])\n",
    "to_plot = temporal_and_spatial.bins.sum()\n",
    "to_plot.transpose(['peak_time', 'y', 'x']).plot(vmin=0.0 * sc.units.one,\n",
    "                                                vmax=0.66 * sc.units.one,\n",
    "                                                labels={\n",
    "                                                    'x': 'x [asec]',\n",
    "                                                    'y': 'y [asec]'\n",
    "                                                },\n",
    "                                                cmap='inferno')"
   ]
  },
  {
   "cell_type": "code",
   "execution_count": null,
   "id": "fcb65d0f-2cb9-4436-9858-c5e8ba4952c2",
   "metadata": {
    "tags": []
   },
   "outputs": [],
   "source": [
    "temporal = sc.bin(spatial, edges=[time_edges], erase=['x', 'y'])"
   ]
  },
  {
   "cell_type": "code",
   "execution_count": null,
   "id": "4ee6bd45-02b2-476c-9b4e-3e06d1d5db0c",
   "metadata": {
    "tags": []
   },
   "outputs": [],
   "source": [
    "temporal.bins.sum().plot(ylabel='number of flares')"
   ]
  },
  {
   "cell_type": "markdown",
   "id": "4eac1ac7-aba8-4a78-a72c-9cdedbb82308",
   "metadata": {},
   "source": [
    "### 3.1 Flare Durations"
   ]
  },
  {
   "cell_type": "markdown",
   "id": "b0e83bdb-2a7e-4dc3-ae81-1596ad7eb533",
   "metadata": {},
   "source": [
    "Another interesting quantity to look at is the duration of flares.\n",
    "The duration was computed earlier and should already be stored as an event coordinate.\n",
    "\n",
    "Plot the duration as a function of time.\n",
    "\n",
    "**Tip**:\n",
    "- Construct a new data array from the previous result: `duration = <binned_by_time>.copy()`.\n",
    "  And assign new data using `duration.bins.data = <duration_data>`.\n",
    "- Previously, we used `.bins.sum()` to make histograms because the data was given as counts.\n",
    "  Now the data is seconds which should be averaged instead of summed.\n",
    "  So use `.bins.mean()` instead."
   ]
  },
  {
   "cell_type": "code",
   "execution_count": null,
   "id": "582ee212-8ce9-4b84-a0ac-47f338f5369d",
   "metadata": {
    "tags": []
   },
   "outputs": [],
   "source": [
    "duration = temporal.copy()\n",
    "duration.name = 'duration'\n",
    "duration.bins.data = duration.bins.coords.pop('duration')\n",
    "duration"
   ]
  },
  {
   "cell_type": "code",
   "execution_count": null,
   "id": "8924360f-5855-45c4-81ed-4fdc818654b4",
   "metadata": {
    "tags": []
   },
   "outputs": [],
   "source": [
    "duration.bins.mean().plot()"
   ]
  },
  {
   "cell_type": "markdown",
   "id": "b43eb0ed-7147-4078-83f7-d16a78e1472e",
   "metadata": {},
   "source": [
    "## 4 Energy Bands"
   ]
  },
  {
   "cell_type": "markdown",
   "id": "826f5008-8810-4e66-8d63-3dfb291b2a25",
   "metadata": {},
   "source": [
    "The flares were recorded in several non-overlapping energy bands.\n",
    "Those are identified by the 'min_energy' and 'max_energy' attributes in `flares`.\n",
    "Since the bands do not overlap, it is sufficient to label them with 'min_energy'.\n",
    "\n",
    "In this section, we want to split the temporal distribution from above into the different energy bands.\n",
    "First, find all minimum energies and construct a `sc.Variable` containing them.\n",
    "\n",
    "**Tip**:\n",
    "- Use `flares.attrs['min_energy']` and either plot it or use [numpy.unique](https://numpy.org/doc/stable/reference/generated/numpy.unique.html) to find out what values it can take.\n",
    "- Use [scipp.array](https://scipp.github.io/generated/functions/scipp.array.html) to make the variable.\n",
    "    - Choose a new dimension label, e.g. 'min_energy'\n",
    "    - Don't forget the unit!"
   ]
  },
  {
   "cell_type": "code",
   "execution_count": null,
   "id": "9efc8b20-866b-469f-8b27-ce1a5c7b3f68",
   "metadata": {
    "tags": []
   },
   "outputs": [],
   "source": [
    "import numpy as np\n",
    "\n",
    "min_energies = sc.array(dims=['min_energy'],\n",
    "                        values=np.unique(flares.attrs['min_energy'].values),\n",
    "                        unit=flares.attrs['min_energy'].unit)\n",
    "min_energies"
   ]
  },
  {
   "cell_type": "markdown",
   "id": "a76b895e-54fb-4edf-9909-435a730cc3ef",
   "metadata": {},
   "source": [
    "Bin the temporal distribution by 'min_energy' to obtain two-dimensional data.\n",
    "Use the `groups` argument of [scipp.bin](https://scipp.github.io/generated/functions/scipp.bin.html) instead of edges this time because every event has exactly one of a set of possible energies instead of a value in a range."
   ]
  },
  {
   "cell_type": "code",
   "execution_count": null,
   "id": "867af899-c290-44d6-86a2-985c19394690",
   "metadata": {
    "tags": []
   },
   "outputs": [],
   "source": [
    "# Optional: Drop the lowest energy band because those events are not confirmed flares.\n",
    "grouped_by_energy = sc.bin(temporal, groups=[min_energies[1:]])"
   ]
  },
  {
   "cell_type": "markdown",
   "id": "5e30c365-a6b0-4bcf-9453-eb0b714828a7",
   "metadata": {},
   "source": [
    "Plot the result.\n",
    "A 2D plot is not very useful here, so split the data by 'min_energy' and either plot each energy in a separate plot or combine them into a dictionary and plot that:\n",
    "```python\n",
    "lines = {'<name>': <data_array>}\n",
    "sc.plot(lines)\n",
    "```"
   ]
  },
  {
   "cell_type": "code",
   "execution_count": null,
   "id": "b0dfd21d-8978-4be3-a567-7aece8a4d89c",
   "metadata": {
    "tags": []
   },
   "outputs": [],
   "source": [
    "lines = {\n",
    "    f\"min_energy={grouped_by_energy['min_energy', i].attrs['min_energy'].value}\":\n",
    "    grouped_by_energy['min_energy', i].bins.sum()\n",
    "    for i in range(grouped_by_energy.sizes['min_energy'])\n",
    "}\n",
    "sc.plot(lines, ylabel='number of flares')"
   ]
  }
 ],
 "metadata": {
  "kernelspec": {
   "display_name": "Python 3 (ipykernel)",
   "language": "python",
   "name": "python3"
  },
  "language_info": {
   "codemirror_mode": {
    "name": "ipython",
    "version": 3
   },
   "file_extension": ".py",
   "mimetype": "text/x-python",
   "name": "python",
   "nbconvert_exporter": "python",
   "pygments_lexer": "ipython3",
   "version": "3.8.12"
  }
 },
 "nbformat": 4,
 "nbformat_minor": 5
}
