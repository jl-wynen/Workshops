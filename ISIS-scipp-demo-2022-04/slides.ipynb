{
 "cells": [
  {
   "cell_type": "markdown",
   "id": "ea713d47-e04f-4698-9725-7440cf95e284",
   "metadata": {
    "slideshow": {
     "slide_type": "slide"
    }
   },
   "source": [
    "<img src='images/scipp-logo.png' width=\"400\" height=\"400\" style=\"display: block; margin-left: auto; margin-right: auto; width: 640px;\">\n",
    "\n",
    "<div style=\"text-align: center;\">Multi-dimensional data arrays with labeled dimensions</div>\n",
    "<br>\n",
    "<br>\n",
    "\n",
    "**Jan-Lukas Wynen** (<i class=\"fa-solid fa-envelope\"></i> jan-lukas.wynen@ess.eu)\n",
    "<br>\n",
    "\n",
    "https://scipp.github.io/"
   ]
  },
  {
   "cell_type": "markdown",
   "id": "e637e7b2",
   "metadata": {
    "slideshow": {
     "slide_type": "slide"
    }
   },
   "source": [
    "# Data Reduction at ESS\n",
    "\n",
    "<img src='images/software-stack.svg' style=\"display: block; margin-left: auto; margin-right: auto; width: 75%;\">"
   ]
  },
  {
   "cell_type": "markdown",
   "id": "addcefa7",
   "metadata": {
    "slideshow": {
     "slide_type": "slide"
    }
   },
   "source": [
    "### The problem with numpy (1)\n",
    "\n",
    "Which dimension is which?"
   ]
  },
  {
   "cell_type": "code",
   "execution_count": null,
   "id": "7b1f0051",
   "metadata": {
    "slideshow": {
     "slide_type": "-"
    }
   },
   "outputs": [],
   "source": [
    "import numpy as np\n",
    "a = np.array([[1, 2, 3], [4, 5, 6], [7, 8, 9]])\n",
    "a = np.r_[np.tile(a[:-1].transpose() + np.array([10, 20]), 2),\n",
    "          np.array([[0, 0, 0, 1]])]\n",
    "a"
   ]
  },
  {
   "cell_type": "code",
   "execution_count": null,
   "id": "224c3283",
   "metadata": {},
   "outputs": [],
   "source": [
    "a[0]"
   ]
  },
  {
   "cell_type": "markdown",
   "id": "043db66c",
   "metadata": {},
   "source": [
    "Or like this?"
   ]
  },
  {
   "cell_type": "code",
   "execution_count": null,
   "id": "b9d1a944",
   "metadata": {},
   "outputs": [],
   "source": [
    "a[:, 0]"
   ]
  },
  {
   "cell_type": "markdown",
   "id": "b870f10d",
   "metadata": {
    "slideshow": {
     "slide_type": "slide"
    }
   },
   "source": [
    "### Scipp's solution: Labeled dimensions"
   ]
  },
  {
   "cell_type": "code",
   "execution_count": null,
   "id": "4e7877d0",
   "metadata": {
    "execution": {
     "iopub.execute_input": "2022-03-22T15:12:33.951660Z",
     "iopub.status.busy": "2022-03-22T15:12:33.951465Z",
     "iopub.status.idle": "2022-03-22T15:12:34.506997Z",
     "shell.execute_reply": "2022-03-22T15:12:34.506651Z",
     "shell.execute_reply.started": "2022-03-22T15:12:33.951605Z"
    },
    "slideshow": {
     "slide_type": "-"
    }
   },
   "outputs": [],
   "source": [
    "import scipp as sc\n",
    "v = sc.array(dims=['x', 'y'], values=[[1, 2], [3, 4]])\n",
    "v"
   ]
  },
  {
   "cell_type": "code",
   "execution_count": null,
   "id": "adba10e6",
   "metadata": {},
   "outputs": [],
   "source": [
    "v['x', 0]"
   ]
  },
  {
   "cell_type": "code",
   "execution_count": null,
   "id": "106ba4cc",
   "metadata": {
    "slideshow": {
     "slide_type": "subslide"
    }
   },
   "outputs": [],
   "source": [
    "a = np.array([[1, 2, 3], [4, 5, 6], [7, 8, 9]])\n",
    "a = np.r_[np.tile(a[:-1].transpose() + np.array([10, 20]), 2),\n",
    "          np.array([[0, 0, 0, 1]])]\n",
    "a"
   ]
  },
  {
   "cell_type": "code",
   "execution_count": null,
   "id": "781bc533",
   "metadata": {
    "slideshow": {
     "slide_type": "-"
    }
   },
   "outputs": [],
   "source": [
    "v = sc.array(dims=['x', 'y'], values=[[1, 2, 3], [4, 5, 6], [7, 8, 9]])\n",
    "v = v['x', :-1].transpose() + sc.array(dims=['x'], values=[10, 20])\n",
    "v = sc.concat([sc.concat([v, v], 'x'),\n",
    "               sc.array(dims=['x'], values=[0, 0, 0, 1])],\n",
    "              'y')\n",
    "v.values"
   ]
  },
  {
   "cell_type": "markdown",
   "id": "2c1f7fd6",
   "metadata": {
    "slideshow": {
     "slide_type": "slide"
    }
   },
   "source": [
    "### The problem with numpy (2)\n",
    "\n",
    "How are arrays associated?"
   ]
  },
  {
   "cell_type": "code",
   "execution_count": null,
   "id": "384af89f",
   "metadata": {},
   "outputs": [],
   "source": [
    "time = np.array([0, 1, 2, 3])\n",
    "speed = np.array([0.1, 0.5, 1.3, 0.7])"
   ]
  },
  {
   "cell_type": "markdown",
   "id": "08fc6109",
   "metadata": {},
   "source": [
    "Is this valid?"
   ]
  },
  {
   "cell_type": "code",
   "execution_count": null,
   "id": "d9eeba5d",
   "metadata": {},
   "outputs": [],
   "source": [
    "np.sum(time * speed)"
   ]
  },
  {
   "cell_type": "markdown",
   "id": "2cc5b317",
   "metadata": {
    "slideshow": {
     "slide_type": "slide"
    }
   },
   "source": [
    "### Scipp's solution: Data Arrays"
   ]
  },
  {
   "cell_type": "code",
   "execution_count": null,
   "id": "557662e9",
   "metadata": {},
   "outputs": [],
   "source": [
    "da = sc.DataArray(sc.array(dims=['time'], values=speed, unit='m/s'),\n",
    "                  coords={'time': sc.array(dims=['time'], values=time, unit='min')})\n",
    "sc.table(da)"
   ]
  },
  {
   "cell_type": "markdown",
   "id": "cd907652",
   "metadata": {
    "slideshow": {
     "slide_type": "slide"
    }
   },
   "source": [
    "### Physcal units prevent mistakes"
   ]
  },
  {
   "cell_type": "code",
   "execution_count": null,
   "id": "6d9e4c6f",
   "metadata": {},
   "outputs": [],
   "source": [
    "da"
   ]
  },
  {
   "cell_type": "markdown",
   "id": "64183e2a",
   "metadata": {},
   "source": [
    "Total distance:"
   ]
  },
  {
   "cell_type": "code",
   "execution_count": null,
   "id": "d93552d8",
   "metadata": {},
   "outputs": [],
   "source": [
    "sc.sum(da.data * da.coords['time'])"
   ]
  },
  {
   "cell_type": "markdown",
   "id": "278e1770",
   "metadata": {
    "slideshow": {
     "slide_type": "slide"
    }
   },
   "source": [
    "### Wait, isn't this just xarray?\n",
    "\n",
    "Sort of, but scipp has\n",
    "\n",
    "- builtin physical units <font color='#555'> &nbsp; (xarray via pint)</font>\n",
    "- variances\n",
    "- non-destructive masks\n",
    "- bin-edge coordiantes\n",
    "- binned data"
   ]
  },
  {
   "cell_type": "markdown",
   "id": "c6548101",
   "metadata": {
    "slideshow": {
     "slide_type": "slide"
    }
   },
   "source": [
    "### What about pandas?\n",
    "\n",
    "`scipp.DataArray` similar to `pandas.DataFrame` but multi-dimensional"
   ]
  },
  {
   "cell_type": "code",
   "execution_count": null,
   "id": "7f729e16",
   "metadata": {},
   "outputs": [],
   "source": [
    "da = sc.DataArray(sc.array(dims=['x', 'y'], values=np.random.normal(size=[5, 10])),\n",
    "                  coords={'x': sc.arange('x', 5),\n",
    "                          'y': sc.arange('y', 4, 14)})\n",
    "da"
   ]
  },
  {
   "cell_type": "code",
   "execution_count": null,
   "id": "02f049b6",
   "metadata": {},
   "outputs": [],
   "source": [
    "sc.show(da)"
   ]
  },
  {
   "cell_type": "markdown",
   "id": "99f5eb17",
   "metadata": {
    "slideshow": {
     "slide_type": "slide"
    }
   },
   "source": [
    "### Coordinates prevent mistakes"
   ]
  },
  {
   "cell_type": "code",
   "execution_count": null,
   "id": "b9632bb5",
   "metadata": {},
   "outputs": [],
   "source": [
    "da"
   ]
  },
  {
   "cell_type": "code",
   "execution_count": null,
   "id": "abfc4bc9",
   "metadata": {
    "tags": [
     "raises-exception"
    ]
   },
   "outputs": [],
   "source": [
    "da2 = sc.DataArray(sc.ones(dims=['x'], shape=[5]),\n",
    "                   coords={'x': sc.arange('x', 1, 6)})\n",
    "da + da2"
   ]
  },
  {
   "cell_type": "markdown",
   "id": "01157940",
   "metadata": {
    "slideshow": {
     "slide_type": "slide"
    }
   },
   "source": [
    "### Attributes: unchecked coordinates"
   ]
  },
  {
   "cell_type": "code",
   "execution_count": null,
   "id": "60d25243",
   "metadata": {},
   "outputs": [],
   "source": [
    "da_attr = da.copy()\n",
    "da_attr.attrs['x'] = da_attr.coords.pop('x')\n",
    "da_attr"
   ]
  },
  {
   "cell_type": "code",
   "execution_count": null,
   "id": "66f203be",
   "metadata": {},
   "outputs": [],
   "source": [
    "da_attr + da2"
   ]
  },
  {
   "cell_type": "markdown",
   "id": "4d20cbcf",
   "metadata": {
    "slideshow": {
     "slide_type": "slide"
    }
   },
   "source": [
    "### Masks: Ignore elements without removing them "
   ]
  },
  {
   "cell_type": "code",
   "execution_count": null,
   "id": "9108791c",
   "metadata": {},
   "outputs": [],
   "source": [
    "masked = da.copy()\n",
    "masked.masks['my_mask'] = sc.array(dims=['x'], values=[True, False, False, True, False])\n",
    "masked"
   ]
  },
  {
   "cell_type": "code",
   "execution_count": null,
   "id": "cb8dbf56",
   "metadata": {},
   "outputs": [],
   "source": [
    "masked.sum()"
   ]
  },
  {
   "cell_type": "code",
   "execution_count": null,
   "id": "cd0e13ec",
   "metadata": {},
   "outputs": [],
   "source": [
    "da.sum()"
   ]
  },
  {
   "cell_type": "markdown",
   "id": "ba2d7689",
   "metadata": {
    "slideshow": {
     "slide_type": "slide"
    }
   },
   "source": [
    "### Plotting"
   ]
  },
  {
   "cell_type": "code",
   "execution_count": null,
   "id": "0f2b076a",
   "metadata": {},
   "outputs": [],
   "source": [
    "masked.plot()"
   ]
  },
  {
   "cell_type": "markdown",
   "id": "243afcfb",
   "metadata": {
    "slideshow": {
     "slide_type": "slide"
    }
   },
   "source": [
    "# Questions?"
   ]
  },
  {
   "cell_type": "markdown",
   "id": "471c6fd0",
   "metadata": {
    "slideshow": {
     "slide_type": "notes"
    }
   },
   "source": [
    "Empty cell to show stuff"
   ]
  },
  {
   "cell_type": "code",
   "execution_count": null,
   "id": "91bfa554",
   "metadata": {},
   "outputs": [],
   "source": []
  },
  {
   "cell_type": "markdown",
   "id": "f77c964c",
   "metadata": {
    "slideshow": {
     "slide_type": "slide"
    }
   },
   "source": [
    "## Binned Data"
   ]
  },
  {
   "cell_type": "code",
   "execution_count": null,
   "id": "3f9ae2c0",
   "metadata": {},
   "outputs": [],
   "source": [
    "binned = sc.data.binned_x(nevent=100, nbin=4)\n",
    "binned"
   ]
  },
  {
   "cell_type": "code",
   "execution_count": null,
   "id": "1bb362b8",
   "metadata": {},
   "outputs": [],
   "source": [
    "sc.show(binned)"
   ]
  },
  {
   "cell_type": "markdown",
   "id": "6cf2f2c3",
   "metadata": {
    "slideshow": {
     "slide_type": "slide"
    }
   },
   "source": [
    "### From bins to histogram"
   ]
  },
  {
   "cell_type": "code",
   "execution_count": null,
   "id": "d367496d",
   "metadata": {
    "slideshow": {
     "slide_type": "-"
    }
   },
   "outputs": [],
   "source": [
    "histogram = binned.bins.sum()\n",
    "histogram"
   ]
  },
  {
   "cell_type": "code",
   "execution_count": null,
   "id": "63819d0b",
   "metadata": {},
   "outputs": [],
   "source": [
    "sc.show(histogram)"
   ]
  },
  {
   "cell_type": "markdown",
   "id": "e385cabf",
   "metadata": {
    "slideshow": {
     "slide_type": "slide"
    }
   },
   "source": [
    "### Multi-dimensional bins"
   ]
  },
  {
   "cell_type": "code",
   "execution_count": null,
   "id": "4f5660be",
   "metadata": {
    "slideshow": {
     "slide_type": "-"
    }
   },
   "outputs": [],
   "source": [
    "binned_2d = sc.data.binned_xy(nevent=100, nx=3, ny=4)\n",
    "binned_2d"
   ]
  },
  {
   "cell_type": "code",
   "execution_count": null,
   "id": "8f550465",
   "metadata": {},
   "outputs": [],
   "source": [
    "sc.show(binned_2d)"
   ]
  },
  {
   "cell_type": "markdown",
   "id": "9621da2b",
   "metadata": {
    "slideshow": {
     "slide_type": "slide"
    }
   },
   "source": [
    "### Making binned data"
   ]
  },
  {
   "cell_type": "code",
   "execution_count": null,
   "id": "f28ba5a8",
   "metadata": {},
   "outputs": [],
   "source": [
    "events = sc.data.table_xyz(100)\n",
    "events"
   ]
  },
  {
   "cell_type": "code",
   "execution_count": null,
   "id": "ea74d459",
   "metadata": {},
   "outputs": [],
   "source": [
    "x_edges = sc.linspace('x', 0.0, 1.0, 4, unit='m')\n",
    "binned = sc.bin(events, edges=[x_edges])\n",
    "sc.show(binned)"
   ]
  },
  {
   "cell_type": "markdown",
   "id": "ddbddb34",
   "metadata": {
    "slideshow": {
     "slide_type": "slide"
    }
   },
   "source": [
    "### Changing binning"
   ]
  },
  {
   "cell_type": "code",
   "execution_count": null,
   "id": "ca30116f",
   "metadata": {},
   "outputs": [],
   "source": [
    "binned"
   ]
  },
  {
   "cell_type": "code",
   "execution_count": null,
   "id": "79bd61da",
   "metadata": {},
   "outputs": [],
   "source": [
    "fine_x_edges = sc.linspace('x', 0.0, 1.0, 12, unit='m')\n",
    "sc.bin(binned, edges=[fine_x_edges])"
   ]
  },
  {
   "cell_type": "markdown",
   "id": "35438fbf",
   "metadata": {
    "slideshow": {
     "slide_type": "slide"
    }
   },
   "source": [
    "### Adding edges"
   ]
  },
  {
   "cell_type": "code",
   "execution_count": null,
   "id": "64e919da",
   "metadata": {},
   "outputs": [],
   "source": [
    "y_edges = sc.geomspace('y', 0.1, 0.8, 5, unit='m')\n",
    "binned_2d = sc.bin(binned, edges=[y_edges])\n",
    "sc.show(binned_2d)"
   ]
  },
  {
   "cell_type": "markdown",
   "id": "442bff89",
   "metadata": {},
   "source": [
    "Equivalently:"
   ]
  },
  {
   "cell_type": "code",
   "execution_count": null,
   "id": "60fbccf1",
   "metadata": {},
   "outputs": [],
   "source": [
    "sc.bin(binned, edges=[x_edges, y_edges])"
   ]
  },
  {
   "cell_type": "markdown",
   "id": "dd6e15b0",
   "metadata": {
    "slideshow": {
     "slide_type": "slide"
    }
   },
   "source": [
    "### Computation with binned data"
   ]
  },
  {
   "cell_type": "code",
   "execution_count": null,
   "id": "1a922be0",
   "metadata": {
    "slideshow": {
     "slide_type": "-"
    }
   },
   "outputs": [],
   "source": [
    "dense_x = sc.DataArray(sc.array(dims=['x'], values=[1, 2, 3], unit='1/kg'),\n",
    "                       coords={'x': x_edges})\n",
    "dense_x"
   ]
  },
  {
   "cell_type": "code",
   "execution_count": null,
   "id": "65e79255",
   "metadata": {},
   "outputs": [],
   "source": [
    "dense_x * binned_2d"
   ]
  },
  {
   "cell_type": "markdown",
   "id": "ea1ee6c6",
   "metadata": {
    "slideshow": {
     "slide_type": "slide"
    }
   },
   "source": [
    "# Questions?"
   ]
  },
  {
   "cell_type": "markdown",
   "id": "8d0257b0",
   "metadata": {
    "slideshow": {
     "slide_type": "notes"
    }
   },
   "source": [
    "Empty cell to show stuff"
   ]
  },
  {
   "cell_type": "code",
   "execution_count": null,
   "id": "03b54f9f",
   "metadata": {},
   "outputs": [],
   "source": []
  },
  {
   "cell_type": "markdown",
   "id": "96f0386e",
   "metadata": {
    "slideshow": {
     "slide_type": "slide"
    }
   },
   "source": [
    "# Tutorial\n",
    "\n",
    "<img src='images/flares.svg' style=\"display: block; margin-left: auto; margin-right: auto; width: 65%;\">"
   ]
  }
 ],
 "metadata": {
  "celltoolbar": "Slideshow",
  "kernelspec": {
   "display_name": "Python 3 (ipykernel)",
   "language": "python",
   "name": "python3"
  },
  "language_info": {
   "codemirror_mode": {
    "name": "ipython",
    "version": 3
   },
   "file_extension": ".py",
   "mimetype": "text/x-python",
   "name": "python",
   "nbconvert_exporter": "python",
   "pygments_lexer": "ipython3"
  },
  "rise": {
   "enable_chalkboard": true,
   "footer": "<h3 style='text-align: center; width: 100%;'><a rel='license' href='http://creativecommons.org/licenses/by/4.0/'><img alt='Creative Commons Licence' style='border-width:0' src='https://i.creativecommons.org/l/by/4.0/88x31.png' /></a>&nbsp;&nbsp;&nbsp;&nbsp;Jan-Lukas Wynen</h3>",
   "theme": "serif",
   "transition": "none"
  }
 },
 "nbformat": 4,
 "nbformat_minor": 5
}
