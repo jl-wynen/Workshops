{
 "cells": [
  {
   "cell_type": "markdown",
   "id": "ea713d47-e04f-4698-9725-7440cf95e284",
   "metadata": {
    "slideshow": {
     "slide_type": "slide"
    }
   },
   "source": [
    "<img src='images/scipp-logo.png' width=\"400\" height=\"400\" style=\"display: block; margin-left: auto; margin-right: auto; width: 640px;\">\n",
    "\n",
    "<div style=\"text-align: center;\">Multi-dimensional data arrays with labeled dimensions</div>\n",
    "<br>\n",
    "<br>\n",
    "\n",
    "**Jan-Lukas Wynen** (<i class=\"fa-solid fa-envelope\"></i> jan-lukas.wynen@ess.eu)\n",
    "<br>\n",
    "\n",
    "https://scipp.github.io/"
   ]
  },
  {
   "cell_type": "markdown",
   "id": "e637e7b2",
   "metadata": {
    "slideshow": {
     "slide_type": "slide"
    }
   },
   "source": [
    "# Data Reduction at ESS\n",
    "\n",
    "<img src='images/software-stack.svg' style=\"display: block; margin-left: auto; margin-right: auto; width: 75%;\">"
   ]
  },
  {
   "cell_type": "markdown",
   "id": "addcefa7",
   "metadata": {
    "slideshow": {
     "slide_type": "slide"
    }
   },
   "source": [
    "### The problem with numpy (1)\n",
    "\n",
    "Which dimension is which?"
   ]
  },
  {
   "cell_type": "code",
   "execution_count": null,
   "id": "7b1f0051",
   "metadata": {
    "slideshow": {
     "slide_type": "-"
    }
   },
   "outputs": [],
   "source": [
    "import numpy as np\n",
    "a = np.array([[1, 2], [3, 4]])\n",
    "a"
   ]
  },
  {
   "cell_type": "code",
   "execution_count": null,
   "id": "224c3283",
   "metadata": {},
   "outputs": [],
   "source": [
    "a[0]"
   ]
  },
  {
   "cell_type": "markdown",
   "id": "043db66c",
   "metadata": {},
   "source": [
    "Or like this?"
   ]
  },
  {
   "cell_type": "code",
   "execution_count": null,
   "id": "b9d1a944",
   "metadata": {},
   "outputs": [],
   "source": [
    "a[:, 0]"
   ]
  },
  {
   "cell_type": "markdown",
   "id": "b870f10d",
   "metadata": {
    "slideshow": {
     "slide_type": "slide"
    }
   },
   "source": [
    "### Scipp's solution: Labeled dimensions"
   ]
  },
  {
   "cell_type": "code",
   "execution_count": null,
   "id": "4e7877d0",
   "metadata": {
    "execution": {
     "iopub.execute_input": "2022-03-22T15:12:33.951660Z",
     "iopub.status.busy": "2022-03-22T15:12:33.951465Z",
     "iopub.status.idle": "2022-03-22T15:12:34.506997Z",
     "shell.execute_reply": "2022-03-22T15:12:34.506651Z",
     "shell.execute_reply.started": "2022-03-22T15:12:33.951605Z"
    },
    "slideshow": {
     "slide_type": "-"
    }
   },
   "outputs": [],
   "source": [
    "import scipp as sc\n",
    "v = sc.array(dims=['x', 'y'], values=[[1, 2], [3, 4]])\n",
    "v"
   ]
  },
  {
   "cell_type": "code",
   "execution_count": null,
   "id": "adba10e6",
   "metadata": {},
   "outputs": [],
   "source": [
    "v['x', 0]"
   ]
  },
  {
   "cell_type": "markdown",
   "id": "2c1f7fd6",
   "metadata": {
    "slideshow": {
     "slide_type": "slide"
    }
   },
   "source": [
    "### The problem with numpy (2)\n",
    "\n",
    "How are arrays associated?"
   ]
  },
  {
   "cell_type": "code",
   "execution_count": null,
   "id": "384af89f",
   "metadata": {},
   "outputs": [],
   "source": [
    "time = np.array([0, 1, 2, 3])\n",
    "speed = np.array([0.1, 0.5, 1.3, 0.7])"
   ]
  },
  {
   "cell_type": "markdown",
   "id": "08fc6109",
   "metadata": {},
   "source": [
    "Do both come from the same measurement?"
   ]
  },
  {
   "cell_type": "markdown",
   "id": "2cc5b317",
   "metadata": {
    "slideshow": {
     "slide_type": "slide"
    }
   },
   "source": [
    "### Scipp's solution: Data Arrays"
   ]
  },
  {
   "cell_type": "code",
   "execution_count": null,
   "id": "557662e9",
   "metadata": {},
   "outputs": [],
   "source": [
    "da = sc.DataArray(sc.array(dims=['time'], values=speed, unit='m/s'),\n",
    "                  coords={'time': sc.array(dims=['time'], values=time, unit='min')})\n",
    "sc.table(da)"
   ]
  },
  {
   "cell_type": "markdown",
   "id": "cd907652",
   "metadata": {
    "slideshow": {
     "slide_type": "slide"
    }
   },
   "source": [
    "### Phiscal units prevent mistakes"
   ]
  },
  {
   "cell_type": "code",
   "execution_count": null,
   "id": "6d9e4c6f",
   "metadata": {},
   "outputs": [],
   "source": [
    "da"
   ]
  },
  {
   "cell_type": "markdown",
   "id": "64183e2a",
   "metadata": {},
   "source": [
    "Total distance:"
   ]
  },
  {
   "cell_type": "code",
   "execution_count": null,
   "id": "d93552d8",
   "metadata": {},
   "outputs": [],
   "source": [
    "sc.sum(da.data * da.coords['time'])"
   ]
  },
  {
   "cell_type": "markdown",
   "id": "278e1770",
   "metadata": {
    "slideshow": {
     "slide_type": "slide"
    }
   },
   "source": [
    "### Wait, isn't this just xarray?\n",
    "\n",
    "Sort of, but scipp has\n",
    "\n",
    "- builtin physical units (xarray via pint)\n",
    "- variances\n",
    "- non-destructive masks\n",
    "- bin-edge coordiantes\n",
    "- binned data"
   ]
  },
  {
   "cell_type": "markdown",
   "id": "c6548101",
   "metadata": {
    "slideshow": {
     "slide_type": "slide"
    }
   },
   "source": [
    "### What about pandas?\n",
    "\n",
    "`scipp.DataArray` similar to `pandas.DataFrame` but multi-dimensional"
   ]
  },
  {
   "cell_type": "code",
   "execution_count": null,
   "id": "7f729e16",
   "metadata": {},
   "outputs": [],
   "source": [
    "da = sc.DataArray(sc.array(dims=['x', 'y'], values=np.random.normal(size=[5, 10])),\n",
    "                  coords={'x': sc.arange('x', 5),\n",
    "                          'y': sc.arange('y', 4, 14)})\n",
    "da"
   ]
  },
  {
   "cell_type": "code",
   "execution_count": null,
   "id": "02f049b6",
   "metadata": {},
   "outputs": [],
   "source": [
    "sc.show(da)"
   ]
  },
  {
   "cell_type": "markdown",
   "id": "99f5eb17",
   "metadata": {
    "slideshow": {
     "slide_type": "slide"
    }
   },
   "source": [
    "### Coordinates prevent mistakes"
   ]
  },
  {
   "cell_type": "code",
   "execution_count": null,
   "id": "b9632bb5",
   "metadata": {},
   "outputs": [],
   "source": [
    "da"
   ]
  },
  {
   "cell_type": "code",
   "execution_count": null,
   "id": "abfc4bc9",
   "metadata": {},
   "outputs": [],
   "source": [
    "da2 = sc.DataArray(sc.array(dims=['x'], values=np.ones(5)),\n",
    "                  coords={'x': sc.arange('x', 1, 6)})\n",
    "da + da2"
   ]
  },
  {
   "cell_type": "markdown",
   "id": "01157940",
   "metadata": {
    "slideshow": {
     "slide_type": "slide"
    }
   },
   "source": [
    "### Attributes: unchecked coordinates"
   ]
  },
  {
   "cell_type": "code",
   "execution_count": null,
   "id": "60d25243",
   "metadata": {},
   "outputs": [],
   "source": [
    "da_attr = da.copy()\n",
    "da_attr.attrs['x'] = da_attr.coords.pop('x')\n",
    "da_attr"
   ]
  },
  {
   "cell_type": "code",
   "execution_count": null,
   "id": "66f203be",
   "metadata": {},
   "outputs": [],
   "source": [
    "da_attr + da2"
   ]
  },
  {
   "cell_type": "markdown",
   "id": "4d20cbcf",
   "metadata": {
    "slideshow": {
     "slide_type": "slide"
    }
   },
   "source": [
    "### Masks: Ignore elements without removing them "
   ]
  },
  {
   "cell_type": "code",
   "execution_count": null,
   "id": "9108791c",
   "metadata": {},
   "outputs": [],
   "source": [
    "masked = da.copy()\n",
    "masked.masks['m'] = sc.array(dims=['x'], values=[True, False, False, True, False])\n",
    "masked"
   ]
  },
  {
   "cell_type": "code",
   "execution_count": null,
   "id": "cb8dbf56",
   "metadata": {},
   "outputs": [],
   "source": [
    "da.sum()"
   ]
  },
  {
   "cell_type": "code",
   "execution_count": null,
   "id": "cd0e13ec",
   "metadata": {},
   "outputs": [],
   "source": [
    "masked.sum()"
   ]
  },
  {
   "cell_type": "markdown",
   "id": "ba2d7689",
   "metadata": {
    "slideshow": {
     "slide_type": "slide"
    }
   },
   "source": [
    "### Plotting"
   ]
  },
  {
   "cell_type": "code",
   "execution_count": null,
   "id": "0f2b076a",
   "metadata": {},
   "outputs": [],
   "source": [
    "masked.plot()"
   ]
  },
  {
   "cell_type": "markdown",
   "id": "243afcfb",
   "metadata": {
    "slideshow": {
     "slide_type": "slide"
    }
   },
   "source": [
    "# Questions?"
   ]
  },
  {
   "cell_type": "markdown",
   "id": "471c6fd0",
   "metadata": {
    "slideshow": {
     "slide_type": "notes"
    }
   },
   "source": [
    "Empty cell to show stuff"
   ]
  },
  {
   "cell_type": "code",
   "execution_count": null,
   "id": "91bfa554",
   "metadata": {},
   "outputs": [],
   "source": []
  },
  {
   "cell_type": "markdown",
   "id": "f77c964c",
   "metadata": {
    "slideshow": {
     "slide_type": "slide"
    }
   },
   "source": [
    "## Binned Data"
   ]
  },
  {
   "cell_type": "code",
   "execution_count": null,
   "id": "3f9ae2c0",
   "metadata": {},
   "outputs": [],
   "source": []
  },
  {
   "cell_type": "markdown",
   "id": "296226ad-2fe4-4a9f-b2d4-b3aab3652418",
   "metadata": {
    "slideshow": {
     "slide_type": "slide"
    }
   },
   "source": [
    "- main features\n",
    "    - labeled dims\n",
    "    - units\n",
    "    - variances\n",
    "    - bin-edges\n",
    "    - binned data\n",
    "    - non destructive masks\n",
    "- numpy confusing\n",
    "- xarray good but missing some stuff (but more mature and better dask support)\n",
    "- variables: arrays with benefits\n",
    "    - html output\n",
    "    - indexing: positional with dim-label\n",
    "    - checks for units\n",
    "    - how to make (array / scalar / arange)\n",
    "- data arrays: like dataframe / table but multi-dim\n",
    "    - data with coord\n",
    "    - html + table + show\n",
    "    - plot\n",
    "    - slicing: positional + label-based\n",
    "    - computation: compares coords, acts on data\n",
    "    - also attrs: like coord but dropped if mismatch\n",
    "    - also masks: non-destructive\n",
    "- datasets: multiple data arrays with shared coords\n",
    "- binned data\n",
    "    - event list, want new dim (e.g. time) but inhomogeneous layout\n",
    "    - binned data: kind of like data array of data arrays\n",
    "    - binning != histogramming\n",
    "        - .bins.sum()\n",
    "        - sc.histogram\n",
    "    - can change binning\n",
    "    - bin by edges or by groups"
   ]
  },
  {
   "cell_type": "code",
   "execution_count": null,
   "id": "b9e575e2",
   "metadata": {},
   "outputs": [],
   "source": []
  },
  {
   "cell_type": "code",
   "execution_count": null,
   "id": "8c6a4e25-da61-4952-89f1-95b2df617b81",
   "metadata": {},
   "outputs": [],
   "source": []
  }
 ],
 "metadata": {
  "celltoolbar": "Slideshow",
  "kernelspec": {
   "display_name": "Python 3 (ipykernel)",
   "language": "python",
   "name": "python3"
  },
  "language_info": {
   "codemirror_mode": {
    "name": "ipython",
    "version": 3
   },
   "file_extension": ".py",
   "mimetype": "text/x-python",
   "name": "python",
   "nbconvert_exporter": "python",
   "pygments_lexer": "ipython3",
   "version": "3.8.12"
  },
  "rise": {
   "enable_chalkboard": true,
   "footer": "<h3 style='text-align: center; width: 100%;'><a rel='license' href='http://creativecommons.org/licenses/by/4.0/'><img alt='Creative Commons Licence' style='border-width:0' src='https://i.creativecommons.org/l/by/4.0/88x31.png' /></a>&nbsp;&nbsp;&nbsp;&nbsp;Jan-Lukas Wynen</h3>",
   "theme": "serif",
   "transition": "none"
  }
 },
 "nbformat": 4,
 "nbformat_minor": 5
}
