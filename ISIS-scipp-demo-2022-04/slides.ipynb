{
 "cells": [
  {
   "cell_type": "markdown",
   "id": "ea713d47-e04f-4698-9725-7440cf95e284",
   "metadata": {
    "slideshow": {
     "slide_type": "slide"
    }
   },
   "source": [
    "<img src='images/scipp-logo.png' width=\"400\" height=\"400\" style=\"display: block; margin-left: auto; margin-right: auto; width: 640px;\">\n",
    "\n",
    "<div style=\"text-align: center;\">Multi-dimensional data arrays with labeled dimensions</div>\n",
    "<br>\n",
    "<br>\n",
    "\n",
    "**Jan-Lukas Wynen** (<i class=\"fa-solid fa-envelope\"></i> jan-lukas.wynen@ess.eu)\n",
    "<br>\n",
    "\n",
    "https://scipp.github.io/"
   ]
  },
  {
   "cell_type": "markdown",
   "id": "e637e7b2",
   "metadata": {
    "slideshow": {
     "slide_type": "slide"
    }
   },
   "source": [
    "# Data Reduction at ESS\n",
    "\n",
    "<img src='images/software-stack.svg' width=\"400\" height=\"400\" style=\"display: block; margin-left: auto; margin-right: auto; width: 640px;\">"
   ]
  },
  {
   "cell_type": "code",
   "execution_count": null,
   "id": "7b1f0051",
   "metadata": {
    "slideshow": {
     "slide_type": "slide"
    }
   },
   "outputs": [],
   "source": [
    "import numpy as np\n",
    "a = np.array([[1, 2], [3, 4]])\n",
    "a"
   ]
  },
  {
   "cell_type": "code",
   "execution_count": null,
   "id": "224c3283",
   "metadata": {},
   "outputs": [],
   "source": [
    "a[0]"
   ]
  },
  {
   "cell_type": "markdown",
   "id": "043db66c",
   "metadata": {},
   "source": [
    "or"
   ]
  },
  {
   "cell_type": "code",
   "execution_count": null,
   "id": "b9d1a944",
   "metadata": {},
   "outputs": [],
   "source": [
    "a[:, 0]"
   ]
  },
  {
   "cell_type": "code",
   "execution_count": null,
   "id": "4e7877d0",
   "metadata": {
    "execution": {
     "iopub.execute_input": "2022-03-22T15:12:33.951660Z",
     "iopub.status.busy": "2022-03-22T15:12:33.951465Z",
     "iopub.status.idle": "2022-03-22T15:12:34.506997Z",
     "shell.execute_reply": "2022-03-22T15:12:34.506651Z",
     "shell.execute_reply.started": "2022-03-22T15:12:33.951605Z"
    },
    "slideshow": {
     "slide_type": "slide"
    }
   },
   "outputs": [],
   "source": [
    "import scipp as sc\n",
    "v = sc.array(dims=['x', 'y'], values=[[1, 2], [3, 4]])\n",
    "v"
   ]
  },
  {
   "cell_type": "code",
   "execution_count": null,
   "id": "adba10e6",
   "metadata": {},
   "outputs": [],
   "source": [
    "v['x', 0]"
   ]
  },
  {
   "cell_type": "markdown",
   "id": "296226ad-2fe4-4a9f-b2d4-b3aab3652418",
   "metadata": {
    "slideshow": {
     "slide_type": "slide"
    }
   },
   "source": [
    "- main features\n",
    "    - labeled dims\n",
    "    - units\n",
    "    - variances\n",
    "    - bin-edges\n",
    "    - binned data\n",
    "    - non destructive masks\n",
    "- numpy confusing\n",
    "- xarray good but missing some stuff (but more mature and better dask support)\n",
    "- variables: arrays with benefits\n",
    "    - html output\n",
    "    - indexing: positional with dim-label\n",
    "    - checks for units\n",
    "    - how to make (array / scalar / arange)\n",
    "- data arrays: like dataframe / table but multi-dim\n",
    "    - data with coord\n",
    "    - html + table + show\n",
    "    - plot\n",
    "    - slicing: positional + label-based\n",
    "    - computation: compares coords, acts on data\n",
    "    - also attrs: like coord but dropped if mismatch\n",
    "    - also masks: non-destructive\n",
    "- datasets: multiple data arrays with shared coords\n",
    "- binned data\n",
    "    - event list, want new dim (e.g. time) but inhomogeneous layout\n",
    "    - binned data: kind of like data array of data arrays\n",
    "    - binning != histogramming\n",
    "        - .bins.sum()\n",
    "        - sc.histogram\n",
    "    - can change binning\n",
    "    - bin by edges or by groups"
   ]
  },
  {
   "cell_type": "code",
   "execution_count": null,
   "id": "8c6a4e25-da61-4952-89f1-95b2df617b81",
   "metadata": {},
   "outputs": [],
   "source": []
  }
 ],
 "metadata": {
  "celltoolbar": "Slideshow",
  "kernelspec": {
   "display_name": "Python 3 (ipykernel)",
   "language": "python",
   "name": "python3"
  },
  "language_info": {
   "codemirror_mode": {
    "name": "ipython",
    "version": 3
   },
   "file_extension": ".py",
   "mimetype": "text/x-python",
   "name": "python",
   "nbconvert_exporter": "python",
   "pygments_lexer": "ipython3",
   "version": "3.8.12"
  },
  "rise": {
   "enable_chalkboard": true,
   "footer": "<h3 style='text-align: center; width: 100%;'><a rel='license' href='http://creativecommons.org/licenses/by/4.0/'><img alt='Creative Commons Licence' style='border-width:0' src='https://i.creativecommons.org/l/by/4.0/88x31.png' /></a>&nbsp;&nbsp;&nbsp;&nbsp;Jan-Lukas Wynen</h3>",
   "theme": "serif",
   "transition": "slide"
  }
 },
 "nbformat": 4,
 "nbformat_minor": 5
}
