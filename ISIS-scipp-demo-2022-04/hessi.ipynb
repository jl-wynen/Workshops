{
 "cells": [
  {
   "cell_type": "markdown",
   "id": "eb6485bf-605d-4252-b0a6-1a6fa50dec01",
   "metadata": {},
   "source": [
    "https://hesperia.gsfc.nasa.gov/rhessi3/data-access/rhessi-data/flare-list/index.html\n",
    "\n",
    "http://sprg.ssl.berkeley.edu/~jimm/hessi/hsi_flare_list.html\n",
    "\n",
    "http://sprg.ssl.berkeley.edu/%7Etohban/browser/?show=grth1+qlpcr+qlpds+qlpg9+qlifs+qli01+qli02+qli03+qli04+qli05+qli06+qlids&date=20020212&time=213530&bar=1\n",
    "GOES classes: https://svs.gsfc.nasa.gov/10109"
   ]
  },
  {
   "cell_type": "code",
   "execution_count": null,
   "id": "31ded75c-b917-4db4-9117-e5546b2dd9bb",
   "metadata": {
    "tags": []
   },
   "outputs": [],
   "source": [
    "import numpy as np\n",
    "import scipp as sc"
   ]
  },
  {
   "cell_type": "code",
   "execution_count": null,
   "id": "86c3f363-21d8-47f5-9ec7-992544e6fdf6",
   "metadata": {
    "tags": []
   },
   "outputs": [],
   "source": [
    "da = sc.io.open_hdf5('data/hessi_flares.h5')"
   ]
  },
  {
   "cell_type": "code",
   "execution_count": null,
   "id": "2a035713-50fb-487e-91e8-c4311e7a4cbb",
   "metadata": {
    "tags": []
   },
   "outputs": [],
   "source": [
    "da"
   ]
  },
  {
   "cell_type": "code",
   "execution_count": null,
   "id": "962ec923-49e8-4923-b7a8-c7c16976711f",
   "metadata": {
    "tags": []
   },
   "outputs": [],
   "source": [
    "non_solar_id = da.attrs['origin_legend'].value['origin', sc.scalar('non_solar')].data.value\n",
    "# da.masks['non_solar'] = (da.attrs['origin'] == non_solar_id)\n",
    "solar_id = da.attrs['origin_legend'].value['origin', sc.scalar('solar')].data.value\n",
    "da = da.groupby('origin').copy(solar_id)"
   ]
  },
  {
   "cell_type": "code",
   "execution_count": null,
   "id": "54a30c3a-6fb9-4dbf-823b-6d171927f309",
   "metadata": {
    "tags": []
   },
   "outputs": [],
   "source": [
    "# da.masks['non_solar2'] = (da.coords['x'] == 0*sc.Unit('asec')) & (da.coords['y'] == 0*sc.Unit('asec'))\n",
    "da = da[(da.coords['x'] != 0*sc.Unit('asec')) | (da.coords['y'] != 0*sc.Unit('asec'))]"
   ]
  },
  {
   "cell_type": "code",
   "execution_count": null,
   "id": "b9d2e6f6-af19-4472-b6bb-e60b7c9d8ef5",
   "metadata": {
    "tags": []
   },
   "outputs": [],
   "source": [
    "# da.masks['eclipsed'] = da.attrs['eclipsed']\n",
    "da = da[~da.attrs['eclipsed']]"
   ]
  },
  {
   "cell_type": "code",
   "execution_count": null,
   "id": "14402d09-a614-4d9b-abb8-2437daeb616a",
   "metadata": {
    "tags": []
   },
   "outputs": [],
   "source": [
    "da = da[da.attrs['min_energy'] >= 6.0 * sc.Unit('keV')]"
   ]
  },
  {
   "cell_type": "code",
   "execution_count": null,
   "id": "d46b4921-a611-4419-b9ec-70e820a36ed6",
   "metadata": {
    "tags": []
   },
   "outputs": [],
   "source": [
    "# manual edges to remove outliers -> non-solar?\n",
    "b = sc.bin(da, edges=[sc.linspace('y', -1200, 1200, 100, unit='asec'), sc.linspace('x', -1200, 1200, 100, unit='asec')])"
   ]
  },
  {
   "cell_type": "code",
   "execution_count": null,
   "id": "31690c1f-5511-4046-b20f-f205453e28ff",
   "metadata": {
    "tags": []
   },
   "outputs": [],
   "source": [
    "fig = b.bins.sum().plot(aspect='equal')\n",
    "fig.ax.set_xlabel('x [asec]')\n",
    "fig.ax.set_ylabel('y [asec]')\n",
    "fig"
   ]
  },
  {
   "cell_type": "code",
   "execution_count": null,
   "id": "6799f57c-1ebc-4e0f-9975-9c956b324986",
   "metadata": {
    "tags": []
   },
   "outputs": [],
   "source": [
    "sc.bin(da, edges=[sc.arange('time', da.coords['time'].min().value, da.coords['time'].max().value, 100000, unit='s')]).bins.sum().plot()"
   ]
  },
  {
   "cell_type": "code",
   "execution_count": null,
   "id": "294a7df6-e2a7-40a8-9f23-2a235d564bbf",
   "metadata": {
    "tags": []
   },
   "outputs": [],
   "source": [
    "xx = da.copy()\n",
    "xx.data[...] = sc.scalar(1., unit='counts')"
   ]
  },
  {
   "cell_type": "code",
   "execution_count": null,
   "id": "2af18790-9605-46be-9897-3c08b3d52077",
   "metadata": {
    "tags": []
   },
   "outputs": [],
   "source": [
    "sc.bin(xx, edges=[sc.arange('time', da.coords['time'].min().value, da.coords['time'].max().value, 3000000, unit='s')]).bins.sum().plot()"
   ]
  },
  {
   "cell_type": "code",
   "execution_count": null,
   "id": "4639aa6e-5708-41eb-9d90-a1013a2de658",
   "metadata": {},
   "outputs": [],
   "source": []
  }
 ],
 "metadata": {
  "kernelspec": {
   "display_name": "Python 3 (ipykernel)",
   "language": "python",
   "name": "python3"
  },
  "language_info": {
   "codemirror_mode": {
    "name": "ipython",
    "version": 3
   },
   "file_extension": ".py",
   "mimetype": "text/x-python",
   "name": "python",
   "nbconvert_exporter": "python",
   "pygments_lexer": "ipython3",
   "version": "3.8.12"
  }
 },
 "nbformat": 4,
 "nbformat_minor": 5
}
