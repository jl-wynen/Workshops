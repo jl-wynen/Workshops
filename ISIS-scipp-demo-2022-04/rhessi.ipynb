{
 "cells": [
  {
   "cell_type": "markdown",
   "id": "eb6485bf-605d-4252-b0a6-1a6fa50dec01",
   "metadata": {},
   "source": [
    "https://hesperia.gsfc.nasa.gov/rhessi3/data-access/rhessi-data/flare-list/index.html\n",
    "\n",
    "http://sprg.ssl.berkeley.edu/~jimm/hessi/hsi_flare_list.html\n",
    "\n",
    "http://sprg.ssl.berkeley.edu/%7Etohban/browser/?show=grth1+qlpcr+qlpds+qlpg9+qlifs+qli01+qli02+qli03+qli04+qli05+qli06+qlids&date=20020212&time=213530&bar=1\n",
    "GOES classes: https://svs.gsfc.nasa.gov/10109"
   ]
  },
  {
   "cell_type": "code",
   "execution_count": null,
   "id": "31ded75c-b917-4db4-9117-e5546b2dd9bb",
   "metadata": {
    "tags": []
   },
   "outputs": [],
   "source": [
    "import numpy as np\n",
    "import scipp as sc"
   ]
  },
  {
   "cell_type": "code",
   "execution_count": null,
   "id": "86c3f363-21d8-47f5-9ec7-992544e6fdf6",
   "metadata": {
    "tags": []
   },
   "outputs": [],
   "source": [
    "da = sc.io.open_hdf5('data/hessi_flares.h5')"
   ]
  },
  {
   "cell_type": "code",
   "execution_count": null,
   "id": "2a035713-50fb-487e-91e8-c4311e7a4cbb",
   "metadata": {
    "tags": []
   },
   "outputs": [],
   "source": [
    "da"
   ]
  },
  {
   "cell_type": "code",
   "execution_count": null,
   "id": "32eea6cf-382d-4599-a9a9-0598e00065bf",
   "metadata": {},
   "outputs": [],
   "source": [
    "da.masks['non_solar'] = da.attrs.pop('non_solar')"
   ]
  },
  {
   "cell_type": "code",
   "execution_count": null,
   "id": "fb12e145-fc04-4188-bd66-46bccc71af7d",
   "metadata": {
    "tags": []
   },
   "outputs": [],
   "source": [
    "da.masks['unknown_position'] = (da.coords['x'] == 0*sc.Unit('asec')) | (da.coords['y'] == 0*sc.Unit('asec'))"
   ]
  },
  {
   "cell_type": "code",
   "execution_count": null,
   "id": "ec1770ef-528d-4f74-aeca-362a72c09905",
   "metadata": {
    "tags": []
   },
   "outputs": [],
   "source": [
    "# manual edges to remove outliers\n",
    "spatial = sc.bin(da,\n",
    "                 edges=[\n",
    "                     sc.linspace('y', -1200, 1200, 100, unit='asec'),\n",
    "                     sc.linspace('x', -1200, 1200, 100, unit='asec')\n",
    "                 ])"
   ]
  },
  {
   "cell_type": "code",
   "execution_count": null,
   "id": "d094a425-21e4-4607-9530-24c9ec343277",
   "metadata": {
    "tags": []
   },
   "outputs": [],
   "source": [
    "fig = spatial.bins.sum().plot(aspect='equal', norm='log')\n",
    "fig.ax.set_xlabel('x [asec]')\n",
    "fig.ax.set_ylabel('y [asec]')\n",
    "fig"
   ]
  },
  {
   "cell_type": "markdown",
   "id": "ec304dcf-0026-4abb-a758-eca093219b5a",
   "metadata": {},
   "source": [
    "Still lots of outliers -> remove"
   ]
  },
  {
   "cell_type": "code",
   "execution_count": null,
   "id": "666f24d2-a8ff-493a-993e-efdd478dead5",
   "metadata": {
    "tags": []
   },
   "outputs": [],
   "source": [
    "# n bins such that bins are square\n",
    "spatial = sc.bin(da,\n",
    "                 edges=[\n",
    "                     sc.linspace('y', -600, 600, 90, unit='asec'),\n",
    "                     sc.linspace('x', -1000, 1000, 150, unit='asec')\n",
    "                 ])"
   ]
  },
  {
   "cell_type": "code",
   "execution_count": null,
   "id": "98a59f36-f500-4986-a53a-848d0bef692d",
   "metadata": {
    "tags": []
   },
   "outputs": [],
   "source": [
    "fig = spatial.bins.sum().plot(aspect='equal', norm='log')\n",
    "fig.ax.set_xlabel('x [asec]')\n",
    "fig.ax.set_ylabel('y [asec]')\n",
    "fig"
   ]
  },
  {
   "cell_type": "markdown",
   "id": "49301ee6-b096-40da-a841-cf9be84db69b",
   "metadata": {},
   "source": [
    "Much better, now remove properly from `da`"
   ]
  },
  {
   "cell_type": "code",
   "execution_count": null,
   "id": "edc6680a-de02-4078-9145-1334b3c8c912",
   "metadata": {
    "tags": []
   },
   "outputs": [],
   "source": [
    "da = da[(abs(da.coords['x']) <= 1000*sc.Unit('asec')) & (abs(da.coords['y']) <= 600*sc.Unit('asec'))]"
   ]
  },
  {
   "cell_type": "markdown",
   "id": "0ead26eb-783b-4230-a8e4-7fdfa27544d9",
   "metadata": {},
   "source": [
    "Included n xrays, look at just the number of flares"
   ]
  },
  {
   "cell_type": "code",
   "execution_count": null,
   "id": "1c64f114-efb4-4122-bc9d-df52c5c6e33f",
   "metadata": {
    "tags": []
   },
   "outputs": [],
   "source": [
    "weightless = sc.ones_like(da)"
   ]
  },
  {
   "cell_type": "code",
   "execution_count": null,
   "id": "cb37afd1-d64c-46bd-985b-b9a32b137c33",
   "metadata": {
    "tags": []
   },
   "outputs": [],
   "source": [
    "spatial_weightless = sc.bin(weightless,\n",
    "                 edges=[\n",
    "                     sc.linspace('y', -600, 600, 90, unit='asec'),\n",
    "                     sc.linspace('x', -1000, 1000, 150, unit='asec')\n",
    "                 ])"
   ]
  },
  {
   "cell_type": "code",
   "execution_count": null,
   "id": "6853cfd6-3737-4fb6-986e-8ba4099caf2f",
   "metadata": {
    "tags": []
   },
   "outputs": [],
   "source": [
    "fig = spatial_weightless.bins.sum().plot(aspect='equal', norm='log')\n",
    "fig.ax.set_xlabel('x [asec]')\n",
    "fig.ax.set_ylabel('y [asec]')\n",
    "fig"
   ]
  },
  {
   "cell_type": "markdown",
   "id": "805b057d-a5cb-4175-8ccd-a1a6160dbb94",
   "metadata": {},
   "source": [
    "## Compare qualities"
   ]
  },
  {
   "cell_type": "markdown",
   "id": "987183dd-2e81-4713-aed5-026b5dbbacc7",
   "metadata": {},
   "source": [
    "There are 7 quality levels"
   ]
  },
  {
   "cell_type": "code",
   "execution_count": null,
   "id": "12e63a4d-f477-461d-abd9-5af8157e8077",
   "metadata": {},
   "outputs": [],
   "source": [
    "np.unique(weightless.attrs['quality'].values)"
   ]
  },
  {
   "cell_type": "markdown",
   "id": "64e03872-31c8-4e9b-a485-ed35c9faaaca",
   "metadata": {},
   "source": [
    "with diminishing numbers of events"
   ]
  },
  {
   "cell_type": "code",
   "execution_count": null,
   "id": "08d2067e-937d-4fc5-ba5d-2b0fe57d4a84",
   "metadata": {
    "tags": []
   },
   "outputs": [],
   "source": [
    "weightless.groupby('quality').sum('event').plot(norm='log')"
   ]
  },
  {
   "cell_type": "markdown",
   "id": "957d42ca-84a1-43ac-9e30-c2d91d9e3452",
   "metadata": {},
   "source": [
    "Bin by time first to see distribution of flares for all qualities"
   ]
  },
  {
   "cell_type": "code",
   "execution_count": null,
   "id": "7f9340d1-df33-4278-aa0c-73fe97791b45",
   "metadata": {
    "tags": []
   },
   "outputs": [],
   "source": [
    "min_time = da.coords['time'].min().value\n",
    "max_time = da.coords['time'].max().value\n",
    "step = (max_time - min_time) / 200\n",
    "by_time = sc.bin(weightless, edges=[sc.arange('time', min_time, max_time, step, unit=da.coords['time'].unit)])"
   ]
  },
  {
   "cell_type": "code",
   "execution_count": null,
   "id": "4ee6bd45-02b2-476c-9b4e-3e06d1d5db0c",
   "metadata": {
    "tags": []
   },
   "outputs": [],
   "source": [
    "by_time.bins.sum().plot()"
   ]
  },
  {
   "cell_type": "markdown",
   "id": "0bebb440-2e3e-4463-bfe9-2d3bf8144d7d",
   "metadata": {},
   "source": [
    "Also bin by quality to split them into separate plots"
   ]
  },
  {
   "cell_type": "code",
   "execution_count": null,
   "id": "ed089d85-b67e-4f20-adaf-2e5b94d2235c",
   "metadata": {
    "tags": []
   },
   "outputs": [],
   "source": [
    "by_time_and_qual = sc.bin(by_time, groups=[sc.arange('quality', 1, 8, unit=None)])"
   ]
  },
  {
   "cell_type": "code",
   "execution_count": null,
   "id": "d188438c-82e9-486e-b52f-e72e6d993131",
   "metadata": {
    "tags": []
   },
   "outputs": [],
   "source": [
    "lines = {\n",
    "    f\"quality={by_time_and_qual['quality', i].attrs['quality'].value}\":\n",
    "    by_time_and_qual['quality', i].bins.sum()\n",
    "    for i in range(by_time_and_qual.sizes['quality'])\n",
    "}\n",
    "sc.plot(lines, ylabel='n flares')"
   ]
  },
  {
   "cell_type": "markdown",
   "id": "b43eb0ed-7147-4078-83f7-d16a78e1472e",
   "metadata": {},
   "source": [
    "## Compare energies"
   ]
  },
  {
   "cell_type": "markdown",
   "id": "c4aad4a7-84fa-41f3-8295-ab1c0d770538",
   "metadata": {},
   "source": [
    "Limit to Q1 and Q2"
   ]
  },
  {
   "cell_type": "code",
   "execution_count": null,
   "id": "9cf2d3ee-1512-4157-b598-8114c6c8de44",
   "metadata": {
    "tags": []
   },
   "outputs": [],
   "source": [
    "best_quality = by_time_and_qual['quality', sc.index(1):sc.index(3)]"
   ]
  },
  {
   "cell_type": "code",
   "execution_count": null,
   "id": "9efc8b20-866b-469f-8b27-ce1a5c7b3f68",
   "metadata": {
    "tags": []
   },
   "outputs": [],
   "source": [
    "min_energies = sc.array(dims=['min_energy'], \n",
    "                        values=np.unique(weightless.attrs['min_energy'].values),\n",
    "                        unit=weightless.attrs['min_energy'].unit)\n",
    "min_energies"
   ]
  },
  {
   "cell_type": "markdown",
   "id": "67c4895b-2bfd-41ff-9dbb-cee04b0333d8",
   "metadata": {},
   "source": [
    "N flares also diminishes but not as cleanly"
   ]
  },
  {
   "cell_type": "code",
   "execution_count": null,
   "id": "222da64e-0dfe-4067-bcb4-b11e9fd4b89d",
   "metadata": {
    "tags": []
   },
   "outputs": [],
   "source": [
    "weightless.groupby('min_energy').sum('event').plot(norm='log')"
   ]
  },
  {
   "cell_type": "markdown",
   "id": "a76b895e-54fb-4edf-9909-435a730cc3ef",
   "metadata": {},
   "source": [
    "Group by energy. Drop lowest because those events are not confirmed flares"
   ]
  },
  {
   "cell_type": "code",
   "execution_count": null,
   "id": "867af899-c290-44d6-86a2-985c19394690",
   "metadata": {
    "tags": []
   },
   "outputs": [],
   "source": [
    "by_time_and_energy = sc.bin(by_time, groups=[min_energies[1:]])"
   ]
  },
  {
   "cell_type": "code",
   "execution_count": null,
   "id": "b0dfd21d-8978-4be3-a567-7aece8a4d89c",
   "metadata": {
    "tags": []
   },
   "outputs": [],
   "source": [
    "lines = {\n",
    "    f\"min_energy={by_time_and_energy['min_energy', i].attrs['min_energy'].value}\":\n",
    "    by_time_and_energy['min_energy', i].bins.sum()\n",
    "    for i in range(by_time_and_energy.sizes['min_energy'])\n",
    "}\n",
    "sc.plot(lines, ylabel='n flares', norm='log')"
   ]
  },
  {
   "cell_type": "markdown",
   "id": "4eac1ac7-aba8-4a78-a72c-9cdedbb82308",
   "metadata": {},
   "source": [
    "## Durations"
   ]
  },
  {
   "cell_type": "code",
   "execution_count": null,
   "id": "582ee212-8ce9-4b84-a0ac-47f338f5369d",
   "metadata": {
    "tags": []
   },
   "outputs": [],
   "source": [
    "durations = da.copy()\n",
    "durations.data = durations.coords.pop('duration')\n",
    "durations"
   ]
  },
  {
   "cell_type": "code",
   "execution_count": null,
   "id": "6e2c7055-9c0b-49c8-923c-0222485befb4",
   "metadata": {
    "tags": []
   },
   "outputs": [],
   "source": [
    "durations = durations[(durations.attrs['min_energy'] >= 6.0 * sc.Unit('keV')) &\n",
    "                      (durations.attrs['quality'] < sc.index(3))]"
   ]
  },
  {
   "cell_type": "code",
   "execution_count": null,
   "id": "89ecd914-0e30-4b51-8924-1ecb3a07014a",
   "metadata": {
    "tags": []
   },
   "outputs": [],
   "source": [
    "min_time = durations.coords['time'].min().value\n",
    "max_time = durations.coords['time'].max().value\n",
    "step = (max_time - min_time) / 200\n",
    "durations_by_time = sc.bin(durations, edges=[sc.arange('time', min_time, max_time, step, unit=da.coords['time'].unit)])\n",
    "durations_by_time.name = 'durations'"
   ]
  },
  {
   "cell_type": "code",
   "execution_count": null,
   "id": "8924360f-5855-45c4-81ed-4fdc818654b4",
   "metadata": {
    "tags": []
   },
   "outputs": [],
   "source": [
    "durations_by_time.bins.mean().plot()"
   ]
  },
  {
   "cell_type": "code",
   "execution_count": null,
   "id": "4639aa6e-5708-41eb-9d90-a1013a2de658",
   "metadata": {},
   "outputs": [],
   "source": []
  }
 ],
 "metadata": {
  "kernelspec": {
   "display_name": "Python 3 (ipykernel)",
   "language": "python",
   "name": "python3"
  },
  "language_info": {
   "codemirror_mode": {
    "name": "ipython",
    "version": 3
   },
   "file_extension": ".py",
   "mimetype": "text/x-python",
   "name": "python",
   "nbconvert_exporter": "python",
   "pygments_lexer": "ipython3",
   "version": "3.8.12"
  }
 },
 "nbformat": 4,
 "nbformat_minor": 5
}
